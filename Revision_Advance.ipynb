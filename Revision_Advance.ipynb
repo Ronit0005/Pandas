{
 "cells": [
  {
   "cell_type": "markdown",
   "metadata": {},
   "source": [
    "This is revision file of advance pandas "
   ]
  },
  {
   "cell_type": "code",
   "execution_count": 1,
   "metadata": {},
   "outputs": [],
   "source": [
    "import pandas as pd \n",
    "data={\n",
    "    \"Name\":[\"Ronit\",\"Rishi\",\"Rahul\",\"Rounak\",\"Tashif\",\"Aditya\",\"Dosa\",\"prasenjit\"],\n",
    "    \"Age\":[20,21,20,20,20,20,22,20],\n",
    "    \"Salary\":[0,10000,0,0,0,0,0,0]\n",
    "}\n",
    "df=pd.DataFrame(data)\n"
   ]
  },
  {
   "cell_type": "code",
   "execution_count": 2,
   "metadata": {},
   "outputs": [],
   "source": [
    "df[\"Id\"]=[i*10 for i in range(8)]\n"
   ]
  },
  {
   "cell_type": "code",
   "execution_count": 3,
   "metadata": {},
   "outputs": [
    {
     "name": "stdout",
     "output_type": "stream",
     "text": [
      "        Name  Age  Salary  Id\n",
      "0      Ronit   20       0   0\n",
      "1      Rishi   21   10000  10\n",
      "2      Rahul   20       0  20\n",
      "3     Rounak   20       0  30\n",
      "4     Tashif   20       0  40\n",
      "5     Aditya   20       0  50\n",
      "6       Dosa   22       0  60\n",
      "7  prasenjit   20       0  70\n"
     ]
    }
   ],
   "source": [
    "print(df)"
   ]
  },
  {
   "cell_type": "code",
   "execution_count": 4,
   "metadata": {},
   "outputs": [],
   "source": [
    "df[\"New_Id\"]=df[\"Id\"]+10"
   ]
  },
  {
   "cell_type": "code",
   "execution_count": 5,
   "metadata": {},
   "outputs": [
    {
     "name": "stdout",
     "output_type": "stream",
     "text": [
      "        Name  Age  Salary  Id  New_Id\n",
      "0      Ronit   20       0   0      10\n",
      "1      Rishi   21   10000  10      20\n",
      "2      Rahul   20       0  20      30\n",
      "3     Rounak   20       0  30      40\n",
      "4     Tashif   20       0  40      50\n",
      "5     Aditya   20       0  50      60\n",
      "6       Dosa   22       0  60      70\n",
      "7  prasenjit   20       0  70      80\n"
     ]
    }
   ],
   "source": [
    "print(df)"
   ]
  },
  {
   "cell_type": "code",
   "execution_count": 6,
   "metadata": {},
   "outputs": [],
   "source": [
    "df.insert(3,\"New_Income\",[i*100 for i in range(8)])"
   ]
  },
  {
   "cell_type": "code",
   "execution_count": 7,
   "metadata": {},
   "outputs": [
    {
     "name": "stdout",
     "output_type": "stream",
     "text": [
      "        Name  Age  Salary  New_Income  Id  New_Id\n",
      "0      Ronit   20       0           0   0      10\n",
      "1      Rishi   21   10000         100  10      20\n",
      "2      Rahul   20       0         200  20      30\n",
      "3     Rounak   20       0         300  30      40\n",
      "4     Tashif   20       0         400  40      50\n",
      "5     Aditya   20       0         500  50      60\n",
      "6       Dosa   22       0         600  60      70\n",
      "7  prasenjit   20       0         700  70      80\n"
     ]
    }
   ],
   "source": [
    "print(df)"
   ]
  },
  {
   "cell_type": "code",
   "execution_count": 8,
   "metadata": {},
   "outputs": [],
   "source": [
    "df.loc[0,\"New_Income\"]=10000"
   ]
  },
  {
   "cell_type": "code",
   "execution_count": 9,
   "metadata": {},
   "outputs": [
    {
     "name": "stdout",
     "output_type": "stream",
     "text": [
      "        Name  Age  Salary  New_Income  Id  New_Id\n",
      "0      Ronit   20       0       10000   0      10\n",
      "1      Rishi   21   10000         100  10      20\n",
      "2      Rahul   20       0         200  20      30\n",
      "3     Rounak   20       0         300  30      40\n",
      "4     Tashif   20       0         400  40      50\n",
      "5     Aditya   20       0         500  50      60\n",
      "6       Dosa   22       0         600  60      70\n",
      "7  prasenjit   20       0         700  70      80\n"
     ]
    }
   ],
   "source": [
    "print(df)"
   ]
  },
  {
   "cell_type": "code",
   "execution_count": 11,
   "metadata": {},
   "outputs": [],
   "source": [
    "df.loc[1,\"New_Income\"]=100"
   ]
  },
  {
   "cell_type": "code",
   "execution_count": 12,
   "metadata": {},
   "outputs": [
    {
     "name": "stdout",
     "output_type": "stream",
     "text": [
      "        Name  Age  Salary  New_Income  Id  New_Id\n",
      "0      Ronit   20       0       10000   0      10\n",
      "1      Rishi   21   10000         100  10      20\n",
      "2      Rahul   20       0         200  20      30\n",
      "3     Rounak   20       0         300  30      40\n",
      "4     Tashif   20       0         400  40      50\n",
      "5     Aditya   20       0         500  50      60\n",
      "6       Dosa   22       0         600  60      70\n",
      "7  prasenjit   20       0         700  70      80\n"
     ]
    }
   ],
   "source": [
    "print(df)"
   ]
  },
  {
   "cell_type": "code",
   "execution_count": 13,
   "metadata": {},
   "outputs": [],
   "source": [
    "df.drop(columns=[\"New_Id\"],inplace=True)"
   ]
  },
  {
   "cell_type": "code",
   "execution_count": 14,
   "metadata": {},
   "outputs": [
    {
     "name": "stdout",
     "output_type": "stream",
     "text": [
      "        Name  Age  Salary  New_Income  Id\n",
      "0      Ronit   20       0       10000   0\n",
      "1      Rishi   21   10000         100  10\n",
      "2      Rahul   20       0         200  20\n",
      "3     Rounak   20       0         300  30\n",
      "4     Tashif   20       0         400  40\n",
      "5     Aditya   20       0         500  50\n",
      "6       Dosa   22       0         600  60\n",
      "7  prasenjit   20       0         700  70\n"
     ]
    }
   ],
   "source": [
    "print(df)"
   ]
  },
  {
   "cell_type": "code",
   "execution_count": 15,
   "metadata": {},
   "outputs": [],
   "source": [
    "df.drop(columns=[\"New_Income\",\"Id\"],inplace=True)"
   ]
  },
  {
   "cell_type": "code",
   "execution_count": 16,
   "metadata": {},
   "outputs": [
    {
     "name": "stdout",
     "output_type": "stream",
     "text": [
      "        Name  Age  Salary\n",
      "0      Ronit   20       0\n",
      "1      Rishi   21   10000\n",
      "2      Rahul   20       0\n",
      "3     Rounak   20       0\n",
      "4     Tashif   20       0\n",
      "5     Aditya   20       0\n",
      "6       Dosa   22       0\n",
      "7  prasenjit   20       0\n"
     ]
    }
   ],
   "source": [
    "print(df)"
   ]
  },
  {
   "cell_type": "code",
   "execution_count": 17,
   "metadata": {},
   "outputs": [
    {
     "name": "stdout",
     "output_type": "stream",
     "text": [
      "    Name    Age  Salary\n",
      "0  False  False   False\n",
      "1  False  False   False\n",
      "2  False  False   False\n",
      "3  False  False   False\n",
      "4  False  False   False\n",
      "5  False  False   False\n",
      "6  False  False   False\n",
      "7  False  False   False\n"
     ]
    }
   ],
   "source": [
    "df.loc[0,\"Salary\"]=0\n",
    "print(df.isnull())"
   ]
  },
  {
   "cell_type": "code",
   "execution_count": 18,
   "metadata": {},
   "outputs": [
    {
     "name": "stdout",
     "output_type": "stream",
     "text": [
      "Name      0\n",
      "Age       0\n",
      "Salary    0\n",
      "dtype: int64\n"
     ]
    }
   ],
   "source": [
    "print(df.isnull().sum())"
   ]
  },
  {
   "cell_type": "code",
   "execution_count": 21,
   "metadata": {},
   "outputs": [
    {
     "name": "stdout",
     "output_type": "stream",
     "text": [
      "None\n"
     ]
    }
   ],
   "source": [
    "data={\n",
    "    \"Name\":[\"Ronit\",\"Rishi\",\"Rahul\",\"Rounak\",\"Tashif\",\"Aditya\",\"Dosa\",\"prasenjit\"],\n",
    "    \"Age\":[20,None,20,20,20,20,22,20],\n",
    "    \"Salary\":[0,10000,0,None,0,0,0,0]\n",
    "}\n",
    "df=pd.DataFrame(data)\n",
    "print(df.dropna(inplace=True))"
   ]
  },
  {
   "cell_type": "code",
   "execution_count": 22,
   "metadata": {},
   "outputs": [
    {
     "name": "stdout",
     "output_type": "stream",
     "text": [
      "        Name   Age  Salary\n",
      "0      Ronit  20.0     0.0\n",
      "2      Rahul  20.0     0.0\n",
      "4     Tashif  20.0     0.0\n",
      "5     Aditya  20.0     0.0\n",
      "6       Dosa  22.0     0.0\n",
      "7  prasenjit  20.0     0.0\n"
     ]
    }
   ],
   "source": [
    "print(df)"
   ]
  },
  {
   "cell_type": "code",
   "execution_count": 23,
   "metadata": {},
   "outputs": [],
   "source": [
    "data={\n",
    "    \"Name\":[\"Ronit\",\"Rishi\",\"Rahul\",\"Rounak\",\"Tashif\",\"Aditya\",\"Dosa\",\"prasenjit\"],\n",
    "    \"Age\":[20,None,20,20,20,20,22,20],\n",
    "    \"Salary\":[0,10000,0,None,0,0,0,0]\n",
    "}\n",
    "df=pd.DataFrame(data)"
   ]
  },
  {
   "cell_type": "code",
   "execution_count": 29,
   "metadata": {},
   "outputs": [
    {
     "name": "stdout",
     "output_type": "stream",
     "text": [
      "None\n"
     ]
    }
   ],
   "source": [
    "print(df.fillna(0,inplace=True))"
   ]
  },
  {
   "cell_type": "code",
   "execution_count": 30,
   "metadata": {},
   "outputs": [
    {
     "name": "stdout",
     "output_type": "stream",
     "text": [
      "        Name   Age   Salary\n",
      "0      Ronit  20.0      0.0\n",
      "1      Rishi   0.0  10000.0\n",
      "2      Rahul  20.0      0.0\n",
      "3     Rounak  20.0      0.0\n",
      "4     Tashif  20.0      0.0\n",
      "5     Aditya  20.0      0.0\n",
      "6       Dosa  22.0      0.0\n",
      "7  prasenjit  20.0      0.0\n"
     ]
    }
   ],
   "source": [
    "print(df)"
   ]
  }
 ],
 "metadata": {
  "kernelspec": {
   "display_name": "pan",
   "language": "python",
   "name": "python3"
  },
  "language_info": {
   "codemirror_mode": {
    "name": "ipython",
    "version": 3
   },
   "file_extension": ".py",
   "mimetype": "text/x-python",
   "name": "python",
   "nbconvert_exporter": "python",
   "pygments_lexer": "ipython3",
   "version": "3.11.9"
  }
 },
 "nbformat": 4,
 "nbformat_minor": 2
}
