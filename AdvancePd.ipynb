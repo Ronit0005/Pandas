{
 "cells": [
  {
   "cell_type": "markdown",
   "metadata": {},
   "source": [
    "This is the advance pandas . "
   ]
  },
  {
   "cell_type": "markdown",
   "metadata": {},
   "source": [
    "Adding Column "
   ]
  },
  {
   "cell_type": "code",
   "execution_count": 1,
   "metadata": {},
   "outputs": [],
   "source": [
    "import pandas as pd"
   ]
  },
  {
   "cell_type": "code",
   "execution_count": 2,
   "metadata": {},
   "outputs": [],
   "source": [
    "data={\n",
    "    \"Name\":[\"Ram\",'Shyam','Ghanshyam','Dhanshyam','Aditi','Jagdish','Raj','Simran'],\n",
    "    \"Age\":[28,34,22,30,29,40,25,32],\n",
    "    \"Salary\":[50000,60000,45000,52000,49000,70000,48000,58000],\n",
    "    \"Performance_Score\":[85,90,78,92,88,95,80,89]\n",
    "\n",
    "}\n",
    "df=pd.DataFrame(data)\n"
   ]
  },
  {
   "cell_type": "markdown",
   "metadata": {},
   "source": [
    "Adding Column In A DataFrame"
   ]
  },
  {
   "cell_type": "code",
   "execution_count": 8,
   "metadata": {},
   "outputs": [
    {
     "name": "stdout",
     "output_type": "stream",
     "text": [
      "        Name  Age  Salary  Performance_Score    Bonus  Increased_Salary\n",
      "0        Ram   28   50000                 85  55000.0           55000.0\n",
      "1      Shyam   34   60000                 90  66000.0           66000.0\n",
      "2  Ghanshyam   22   45000                 78  49500.0           49500.0\n",
      "3  Dhanshyam   30   52000                 92  57200.0           57200.0\n",
      "4      Aditi   29   49000                 88  53900.0           53900.0\n",
      "5    Jagdish   40   70000                 95  77000.0           77000.0\n",
      "6        Raj   25   48000                 80  52800.0           52800.0\n",
      "7     Simran   32   58000                 89  63800.0           63800.0\n"
     ]
    }
   ],
   "source": [
    "df[\"Increased_Salary\"]=df[\"Salary\"]*0.1+df[\"Salary\"]\n",
    "print(df)"
   ]
  },
  {
   "cell_type": "markdown",
   "metadata": {},
   "source": [
    "Adding New Column in a DataFrame\n"
   ]
  },
  {
   "cell_type": "code",
   "execution_count": 11,
   "metadata": {},
   "outputs": [
    {
     "name": "stdout",
     "output_type": "stream",
     "text": [
      "   Employee_id       Name  Employee_ID  Age  Salary  Performance_Score  \\\n",
      "0           10        Ram           10   28   50000                 85   \n",
      "1           20      Shyam           20   34   60000                 90   \n",
      "2           30  Ghanshyam           30   22   45000                 78   \n",
      "3           40  Dhanshyam           40   30   52000                 92   \n",
      "4           50      Aditi           50   29   49000                 88   \n",
      "5           60    Jagdish           60   40   70000                 95   \n",
      "6           70        Raj           70   25   48000                 80   \n",
      "7           80     Simran           80   32   58000                 89   \n",
      "\n",
      "     Bonus  Increased_Salary  \n",
      "0  55000.0           55000.0  \n",
      "1  66000.0           66000.0  \n",
      "2  49500.0           49500.0  \n",
      "3  57200.0           57200.0  \n",
      "4  53900.0           53900.0  \n",
      "5  77000.0           77000.0  \n",
      "6  52800.0           52800.0  \n",
      "7  63800.0           63800.0  \n"
     ]
    }
   ],
   "source": [
    "df.insert(2,\"Employee_ID\",[10,20,30,40,50,60,70,80])\n",
    "print(df)"
   ]
  },
  {
   "cell_type": "markdown",
   "metadata": {},
   "source": [
    "Updating Values"
   ]
  },
  {
   "cell_type": "code",
   "execution_count": 12,
   "metadata": {},
   "outputs": [
    {
     "name": "stdout",
     "output_type": "stream",
     "text": [
      "   Employee_id       Name  Employee_ID  Age  Salary  Performance_Score  \\\n",
      "0           10        Ram           10   28  100000                 85   \n",
      "1           20      Shyam           20   34   60000                 90   \n",
      "2           30  Ghanshyam           30   22   45000                 78   \n",
      "3           40  Dhanshyam           40   30   52000                 92   \n",
      "4           50      Aditi           50   29   49000                 88   \n",
      "5           60    Jagdish           60   40   70000                 95   \n",
      "6           70        Raj           70   25   48000                 80   \n",
      "7           80     Simran           80   32   58000                 89   \n",
      "\n",
      "     Bonus  Increased_Salary  \n",
      "0  55000.0           55000.0  \n",
      "1  66000.0           66000.0  \n",
      "2  49500.0           49500.0  \n",
      "3  57200.0           57200.0  \n",
      "4  53900.0           53900.0  \n",
      "5  77000.0           77000.0  \n",
      "6  52800.0           52800.0  \n",
      "7  63800.0           63800.0  \n"
     ]
    }
   ],
   "source": [
    "df.loc[0,\"Salary\"]=100000\n",
    "print(df)"
   ]
  },
  {
   "cell_type": "code",
   "execution_count": 13,
   "metadata": {},
   "outputs": [
    {
     "name": "stdout",
     "output_type": "stream",
     "text": [
      "   Employee_id       Name  Employee_ID  Age   Salary  Performance_Score  \\\n",
      "0           10        Ram           10   28  50000.0                 85   \n",
      "1           20      Shyam           20   34  30000.0                 90   \n",
      "2           30  Ghanshyam           30   22  22500.0                 78   \n",
      "3           40  Dhanshyam           40   30  26000.0                 92   \n",
      "4           50      Aditi           50   29  24500.0                 88   \n",
      "5           60    Jagdish           60   40  35000.0                 95   \n",
      "6           70        Raj           70   25  24000.0                 80   \n",
      "7           80     Simran           80   32  29000.0                 89   \n",
      "\n",
      "     Bonus  Increased_Salary  \n",
      "0  55000.0           55000.0  \n",
      "1  66000.0           66000.0  \n",
      "2  49500.0           49500.0  \n",
      "3  57200.0           57200.0  \n",
      "4  53900.0           53900.0  \n",
      "5  77000.0           77000.0  \n",
      "6  52800.0           52800.0  \n",
      "7  63800.0           63800.0  \n"
     ]
    }
   ],
   "source": [
    "# Increasing salary by 5 percent\n",
    "df[\"Salary\"]=df[\"Salary\"]*0.5\n",
    "print(df)"
   ]
  },
  {
   "cell_type": "markdown",
   "metadata": {},
   "source": [
    "Removing Column "
   ]
  },
  {
   "cell_type": "code",
   "execution_count": 14,
   "metadata": {},
   "outputs": [
    {
     "name": "stdout",
     "output_type": "stream",
     "text": [
      "   Employee_id  Employee_ID  Age   Salary  Performance_Score    Bonus  \\\n",
      "0           10           10   28  50000.0                 85  55000.0   \n",
      "1           20           20   34  30000.0                 90  66000.0   \n",
      "2           30           30   22  22500.0                 78  49500.0   \n",
      "3           40           40   30  26000.0                 92  57200.0   \n",
      "4           50           50   29  24500.0                 88  53900.0   \n",
      "5           60           60   40  35000.0                 95  77000.0   \n",
      "6           70           70   25  24000.0                 80  52800.0   \n",
      "7           80           80   32  29000.0                 89  63800.0   \n",
      "\n",
      "   Increased_Salary  \n",
      "0           55000.0  \n",
      "1           66000.0  \n",
      "2           49500.0  \n",
      "3           57200.0  \n",
      "4           53900.0  \n",
      "5           77000.0  \n",
      "6           52800.0  \n",
      "7           63800.0  \n"
     ]
    }
   ],
   "source": [
    "df.drop(columns=[\"Name\"],inplace=True)\n",
    "print(df)"
   ]
  },
  {
   "cell_type": "code",
   "execution_count": 15,
   "metadata": {},
   "outputs": [
    {
     "name": "stdout",
     "output_type": "stream",
     "text": [
      "   Employee_id  Employee_ID  Performance_Score    Bonus  Increased_Salary\n",
      "0           10           10                 85  55000.0           55000.0\n",
      "1           20           20                 90  66000.0           66000.0\n",
      "2           30           30                 78  49500.0           49500.0\n",
      "3           40           40                 92  57200.0           57200.0\n",
      "4           50           50                 88  53900.0           53900.0\n",
      "5           60           60                 95  77000.0           77000.0\n",
      "6           70           70                 80  52800.0           52800.0\n",
      "7           80           80                 89  63800.0           63800.0\n"
     ]
    }
   ],
   "source": [
    "df.drop(columns=[\"Salary\",\"Age\"],inplace=True)\n",
    "print(df)"
   ]
  },
  {
   "cell_type": "code",
   "execution_count": 22,
   "metadata": {},
   "outputs": [
    {
     "name": "stdout",
     "output_type": "stream",
     "text": [
      "    Name    Age  Salary  Performance_Score\n",
      "0  False  False   False              False\n",
      "1  False   True   False               True\n",
      "2  False  False   False              False\n",
      "3  False  False   False              False\n",
      "4  False  False   False              False\n",
      "5  False  False   False              False\n",
      "6  False  False   False              False\n",
      "7  False  False   False              False\n",
      "Name                 0\n",
      "Age                  1\n",
      "Salary               0\n",
      "Performance_Score    1\n",
      "dtype: int64\n"
     ]
    }
   ],
   "source": [
    "data={\n",
    "    \"Name\":[\"Ram\",'Shyam','Ghanshyam','Dhanshyam','Aditi','Jagdish','Raj','Simran'],\n",
    "    \"Age\":[28,None,22,30,29,40,25,32],\n",
    "    \"Salary\":[50000,60000,45000,52000,49000,70000,48000,58000],\n",
    "    \"Performance_Score\":[85,None,78,92,88,95,80,89]\n",
    "\n",
    "}\n",
    "df=pd.DataFrame(data)\n",
    "print(df.isnull())\n",
    "print(df.isnull().sum())"
   ]
  },
  {
   "cell_type": "markdown",
   "metadata": {},
   "source": [
    "Handling The Missing Value"
   ]
  },
  {
   "cell_type": "code",
   "execution_count": 23,
   "metadata": {},
   "outputs": [
    {
     "name": "stdout",
     "output_type": "stream",
     "text": [
      "        Name   Age  Salary  Performance_Score\n",
      "0        Ram  28.0   50000               85.0\n",
      "2  Ghanshyam  22.0   45000               78.0\n",
      "3  Dhanshyam  30.0   52000               92.0\n",
      "4      Aditi  29.0   49000               88.0\n",
      "5    Jagdish  40.0   70000               95.0\n",
      "6        Raj  25.0   48000               80.0\n",
      "7     Simran  32.0   58000               89.0\n"
     ]
    }
   ],
   "source": [
    "# Remving the missing values from a column \n",
    "df.dropna(inplace=True)\n",
    "print(df)"
   ]
  },
  {
   "cell_type": "code",
   "execution_count": 24,
   "metadata": {},
   "outputs": [],
   "source": [
    "data={\n",
    "    \"Name\":[\"Ram\",'Shyam','Ghanshyam','Dhanshyam','Aditi','Jagdish','Raj','Simran'],\n",
    "    \"Age\":[28,None,22,30,29,40,25,32],\n",
    "    \"Salary\":[50000,60000,45000,52000,49000,70000,48000,58000],\n",
    "    \"Performance_Score\":[85,None,78,92,88,95,80,89]\n",
    "\n",
    "}\n",
    "df=pd.DataFrame(data)"
   ]
  },
  {
   "cell_type": "code",
   "execution_count": 25,
   "metadata": {},
   "outputs": [
    {
     "name": "stdout",
     "output_type": "stream",
     "text": [
      "        Name   Age  Salary  Performance_Score\n",
      "0        Ram  28.0   50000               85.0\n",
      "1      Shyam   0.0   60000                0.0\n",
      "2  Ghanshyam  22.0   45000               78.0\n",
      "3  Dhanshyam  30.0   52000               92.0\n",
      "4      Aditi  29.0   49000               88.0\n",
      "5    Jagdish  40.0   70000               95.0\n",
      "6        Raj  25.0   48000               80.0\n",
      "7     Simran  32.0   58000               89.0\n"
     ]
    }
   ],
   "source": [
    "df.fillna(0,inplace=True)\n",
    "print(df)"
   ]
  },
  {
   "cell_type": "code",
   "execution_count": 1,
   "metadata": {},
   "outputs": [],
   "source": [
    "import pandas as pd\n",
    "data={\n",
    "    \"Name\":[\"Ram\",'Shyam','Ghanshyam','Dhanshyam','Aditi','Jagdish','Raj','Simran'],\n",
    "    \"Age\":[28,None,22,30,29,40,25,32],\n",
    "    \"Salary\":[50000,60000,45000,52000,49000,70000,48000,58000],\n",
    "    \"Performance_Score\":[85,None,78,92,88,95,80,89]\n",
    "\n",
    "}\n",
    "df=pd.DataFrame(data)\n",
    "df.dropna(axis=1,inplace=True)"
   ]
  },
  {
   "cell_type": "code",
   "execution_count": 2,
   "metadata": {},
   "outputs": [
    {
     "name": "stdout",
     "output_type": "stream",
     "text": [
      "        Name  Salary\n",
      "0        Ram   50000\n",
      "1      Shyam   60000\n",
      "2  Ghanshyam   45000\n",
      "3  Dhanshyam   52000\n",
      "4      Aditi   49000\n",
      "5    Jagdish   70000\n",
      "6        Raj   48000\n",
      "7     Simran   58000\n"
     ]
    }
   ],
   "source": [
    "print(df)"
   ]
  },
  {
   "cell_type": "code",
   "execution_count": 4,
   "metadata": {},
   "outputs": [
    {
     "name": "stdout",
     "output_type": "stream",
     "text": [
      "        Name     Age  Salary  Performance_Score\n",
      "0        Ram    28.0   50000               85.0\n",
      "1      Shyam  1000.0   60000             1000.0\n",
      "2  Ghanshyam    22.0   45000               78.0\n",
      "3  Dhanshyam    30.0   52000               92.0\n",
      "4      Aditi    29.0   49000               88.0\n",
      "5    Jagdish    40.0   70000               95.0\n",
      "6        Raj    25.0   48000               80.0\n",
      "7     Simran    32.0   58000               89.0\n"
     ]
    }
   ],
   "source": [
    "import pandas as pd\n",
    "data={\n",
    "    \"Name\":[\"Ram\",'Shyam','Ghanshyam','Dhanshyam','Aditi','Jagdish','Raj','Simran'],\n",
    "    \"Age\":[28,None,22,30,29,40,25,32],\n",
    "    \"Salary\":[50000,60000,45000,52000,49000,70000,48000,58000],\n",
    "    \"Performance_Score\":[85,None,78,92,88,95,80,89]\n",
    "\n",
    "}\n",
    "df=pd.DataFrame(data)\n",
    "df.fillna(1000,inplace=True)\n",
    "print(df)"
   ]
  },
  {
   "cell_type": "code",
   "execution_count": 5,
   "metadata": {},
   "outputs": [],
   "source": [
    "import pandas as pd\n",
    "data={\n",
    "    \"Name\":[\"Ram\",'Shyam','Ghanshyam','Dhanshyam','Aditi','Jagdish','Raj','Simran'],\n",
    "    \"Age\":[28,None,22,30,29,40,25,32],\n",
    "    \"Salary\":[50000,60000,45000,52000,49000,70000,48000,58000],\n",
    "    \"Performance_Score\":[85,None,78,92,88,95,80,89]\n",
    "\n",
    "}\n",
    "df=pd.DataFrame(data)"
   ]
  },
  {
   "cell_type": "code",
   "execution_count": 7,
   "metadata": {},
   "outputs": [
    {
     "name": "stdout",
     "output_type": "stream",
     "text": [
      "        Name        Age  Salary  Performance_Score\n",
      "0        Ram  28.000000   50000               85.0\n",
      "1      Shyam  29.428571   60000                NaN\n",
      "2  Ghanshyam  22.000000   45000               78.0\n",
      "3  Dhanshyam  30.000000   52000               92.0\n",
      "4      Aditi  29.000000   49000               88.0\n",
      "5    Jagdish  40.000000   70000               95.0\n",
      "6        Raj  25.000000   48000               80.0\n",
      "7     Simran  32.000000   58000               89.0\n"
     ]
    },
    {
     "name": "stderr",
     "output_type": "stream",
     "text": [
      "C:\\Users\\ronit2007\\AppData\\Local\\Temp\\ipykernel_22336\\155784291.py:1: FutureWarning: A value is trying to be set on a copy of a DataFrame or Series through chained assignment using an inplace method.\n",
      "The behavior will change in pandas 3.0. This inplace method will never work because the intermediate object on which we are setting values always behaves as a copy.\n",
      "\n",
      "For example, when doing 'df[col].method(value, inplace=True)', try using 'df.method({col: value}, inplace=True)' or df[col] = df[col].method(value) instead, to perform the operation inplace on the original object.\n",
      "\n",
      "\n",
      "  df[\"Age\"].fillna(df[\"Age\"].mean(),inplace=True)\n"
     ]
    }
   ],
   "source": [
    "df[\"Age\"].fillna(df[\"Age\"].mean(),inplace=True)\n",
    "print(df)"
   ]
  },
  {
   "cell_type": "code",
   "execution_count": 9,
   "metadata": {},
   "outputs": [
    {
     "name": "stdout",
     "output_type": "stream",
     "text": [
      "        Name   Age  Salary  Performance_Score\n",
      "0        Ram  28.0   50000          85.000000\n",
      "1      Shyam   NaN   60000          86.714286\n",
      "2  Ghanshyam  22.0   45000          78.000000\n",
      "3  Dhanshyam  30.0   52000          92.000000\n",
      "4      Aditi  29.0   49000          88.000000\n",
      "5    Jagdish  40.0   70000          95.000000\n",
      "6        Raj  25.0   48000          80.000000\n",
      "7     Simran  32.0   58000          89.000000\n"
     ]
    },
    {
     "name": "stderr",
     "output_type": "stream",
     "text": [
      "C:\\Users\\ronit2007\\AppData\\Local\\Temp\\ipykernel_22336\\2485823954.py:10: FutureWarning: A value is trying to be set on a copy of a DataFrame or Series through chained assignment using an inplace method.\n",
      "The behavior will change in pandas 3.0. This inplace method will never work because the intermediate object on which we are setting values always behaves as a copy.\n",
      "\n",
      "For example, when doing 'df[col].method(value, inplace=True)', try using 'df.method({col: value}, inplace=True)' or df[col] = df[col].method(value) instead, to perform the operation inplace on the original object.\n",
      "\n",
      "\n",
      "  df[\"Performance_Score\"].fillna(df[\"Performance_Score\"].mean(),inplace=True)\n"
     ]
    }
   ],
   "source": [
    "import pandas as pd\n",
    "data={\n",
    "    \"Name\":[\"Ram\",'Shyam','Ghanshyam','Dhanshyam','Aditi','Jagdish','Raj','Simran'],\n",
    "    \"Age\":[28,None,22,30,29,40,25,32],\n",
    "    \"Salary\":[50000,60000,45000,52000,49000,70000,48000,58000],\n",
    "    \"Performance_Score\":[85,None,78,92,88,95,80,89]\n",
    "\n",
    "}\n",
    "df=pd.DataFrame(data)\n",
    "df[\"Performance_Score\"].fillna(df[\"Performance_Score\"].mean(),inplace=True)\n",
    "print(df)"
   ]
  },
  {
   "cell_type": "markdown",
   "metadata": {},
   "source": [
    "Interpolation : Filling estimated value in missing value .\n",
    "- preserve data integrity .\n",
    "- smooth trends .\n",
    "- Avoid data loss . \n"
   ]
  },
  {
   "cell_type": "code",
   "execution_count": 10,
   "metadata": {},
   "outputs": [
    {
     "name": "stderr",
     "output_type": "stream",
     "text": [
      "C:\\Users\\ronit2007\\AppData\\Local\\Temp\\ipykernel_22336\\3962552568.py:10: FutureWarning: DataFrame.interpolate with object dtype is deprecated and will raise in a future version. Call obj.infer_objects(copy=False) before interpolating instead.\n",
      "  df.interpolate(method=\"linear\",axis=0,inplace=True)\n"
     ]
    }
   ],
   "source": [
    "import pandas as pd\n",
    "data={\n",
    "    \"Name\":[\"Ram\",'Shyam','Ghanshyam','Dhanshyam','Aditi','Jagdish','Raj','Simran'],\n",
    "    \"Age\":[28,None,22,30,29,40,25,32],\n",
    "    \"Salary\":[50000,60000,45000,52000,49000,70000,48000,58000],\n",
    "    \"Performance_Score\":[85,None,78,92,88,95,80,89]\n",
    "\n",
    "}\n",
    "df=pd.DataFrame(data)\n",
    "df.interpolate(method=\"linear\",axis=0,inplace=True)"
   ]
  },
  {
   "cell_type": "code",
   "execution_count": 11,
   "metadata": {},
   "outputs": [
    {
     "name": "stdout",
     "output_type": "stream",
     "text": [
      "        Name   Age  Salary  Performance_Score\n",
      "0        Ram  28.0   50000               85.0\n",
      "1      Shyam  25.0   60000               81.5\n",
      "2  Ghanshyam  22.0   45000               78.0\n",
      "3  Dhanshyam  30.0   52000               92.0\n",
      "4      Aditi  29.0   49000               88.0\n",
      "5    Jagdish  40.0   70000               95.0\n",
      "6        Raj  25.0   48000               80.0\n",
      "7     Simran  32.0   58000               89.0\n"
     ]
    }
   ],
   "source": [
    "print(df)"
   ]
  },
  {
   "cell_type": "code",
   "execution_count": 17,
   "metadata": {},
   "outputs": [
    {
     "name": "stdout",
     "output_type": "stream",
     "text": [
      "   Time  Value\n",
      "0   1.0   10.0\n",
      "1   NaN   20.0\n",
      "2   3.0   30.0\n",
      "3   4.0   40.0\n",
      "4   5.0   40.0\n"
     ]
    },
    {
     "name": "stderr",
     "output_type": "stream",
     "text": [
      "C:\\Users\\ronit2007\\AppData\\Local\\Temp\\ipykernel_22336\\2146719961.py:6: FutureWarning: A value is trying to be set on a copy of a DataFrame or Series through chained assignment using an inplace method.\n",
      "The behavior will change in pandas 3.0. This inplace method will never work because the intermediate object on which we are setting values always behaves as a copy.\n",
      "\n",
      "For example, when doing 'df[col].method(value, inplace=True)', try using 'df.method({col: value}, inplace=True)' or df[col] = df[col].method(value) instead, to perform the operation inplace on the original object.\n",
      "\n",
      "\n",
      "  df[\"Value\"].interpolate(method=\"linear\",axis=0,inplace=True)\n"
     ]
    }
   ],
   "source": [
    "data={\n",
    "    \"Time\":[1,None,3,4,5],\n",
    "    \"Value\":[10,None,30,40,None]\n",
    "}\n",
    "df=pd.DataFrame(data)\n",
    "df[\"Value\"].interpolate(method=\"linear\",axis=0,inplace=True)\n",
    "print(df)"
   ]
  },
  {
   "cell_type": "markdown",
   "metadata": {},
   "source": [
    "Sorting and aggregation "
   ]
  },
  {
   "cell_type": "code",
   "execution_count": 18,
   "metadata": {},
   "outputs": [],
   "source": [
    "# Sorting"
   ]
  },
  {
   "cell_type": "code",
   "execution_count": 21,
   "metadata": {},
   "outputs": [],
   "source": [
    "data={\n",
    "    \"Name\":[\"Ram\",'Shyam','Ghanshyam','Dhanshyam','Aditi','Jagdish','Raj','Simran'],\n",
    "    \"Age\":[28,None,22,30,29,40,25,32],\n",
    "    \"Salary\":[50000,60000,45000,52000,49000,70000,48000,58000],\n",
    "    \"Performance_Score\":[85,None,78,92,88,95,80,89]\n",
    "\n",
    "}\n",
    "df=pd.DataFrame(data)\n",
    "df.sort_values(by=\"Salary\",ascending=True,inplace=True)"
   ]
  },
  {
   "cell_type": "code",
   "execution_count": 22,
   "metadata": {},
   "outputs": [
    {
     "name": "stdout",
     "output_type": "stream",
     "text": [
      "        Name   Age  Salary  Performance_Score\n",
      "2  Ghanshyam  22.0   45000               78.0\n",
      "6        Raj  25.0   48000               80.0\n",
      "4      Aditi  29.0   49000               88.0\n",
      "0        Ram  28.0   50000               85.0\n",
      "3  Dhanshyam  30.0   52000               92.0\n",
      "7     Simran  32.0   58000               89.0\n",
      "1      Shyam   NaN   60000                NaN\n",
      "5    Jagdish  40.0   70000               95.0\n"
     ]
    }
   ],
   "source": [
    "print(df)"
   ]
  },
  {
   "cell_type": "code",
   "execution_count": 24,
   "metadata": {},
   "outputs": [
    {
     "name": "stdout",
     "output_type": "stream",
     "text": [
      "    Name  Age  Salary\n",
      "2  Karun   22   30000\n",
      "0   Arun   28   10000\n",
      "1  Varun   34   20000\n"
     ]
    }
   ],
   "source": [
    "data={\n",
    "    \"Name\":[\"Arun\",\"Varun\",\"Karun\"],\n",
    "    \"Age\":[28,34,22],\n",
    "    \"Salary\":[10000,20000,30000]\n",
    "}\n",
    "df=pd.DataFrame(data)\n",
    "df.sort_values(by=[\"Age\",\"Salary\"],ascending=[True,False],inplace=True)\n",
    "print(df) # First prefference is given to first column "
   ]
  },
  {
   "cell_type": "markdown",
   "metadata": {},
   "source": [
    "Summary Statistics"
   ]
  },
  {
   "cell_type": "code",
   "execution_count": 25,
   "metadata": {},
   "outputs": [
    {
     "name": "stdout",
     "output_type": "stream",
     "text": [
      "84\n"
     ]
    }
   ],
   "source": [
    "print(df[\"Age\"].sum())"
   ]
  },
  {
   "cell_type": "code",
   "execution_count": 26,
   "metadata": {},
   "outputs": [
    {
     "name": "stdout",
     "output_type": "stream",
     "text": [
      "20000.0\n"
     ]
    }
   ],
   "source": [
    "print(df[\"Salary\"].mean())"
   ]
  },
  {
   "cell_type": "markdown",
   "metadata": {},
   "source": [
    "Grouping in pandas"
   ]
  },
  {
   "cell_type": "code",
   "execution_count": 27,
   "metadata": {},
   "outputs": [],
   "source": [
    "data={\n",
    "    \"Name\":[\"Arun\",\"Varun\",\"Karun\",\"Narun\",\"Marun\"],\n",
    "    \"Age\":[28,34,22,34,28],\n",
    "    \"Salary\":[50000,60000,45000,52000,40000]\n",
    "}\n",
    "df=pd.DataFrame(data)"
   ]
  },
  {
   "cell_type": "code",
   "execution_count": 29,
   "metadata": {},
   "outputs": [
    {
     "ename": "ValueError",
     "evalue": "No axis named Salary for object type DataFrame",
     "output_type": "error",
     "traceback": [
      "\u001b[31m---------------------------------------------------------------------------\u001b[39m",
      "\u001b[31mKeyError\u001b[39m                                  Traceback (most recent call last)",
      "\u001b[32mc:\\Users\\ronit2007\\Desktop\\VirEnv\\pan\\Lib\\site-packages\\pandas\\core\\generic.py\u001b[39m in \u001b[36m?\u001b[39m\u001b[34m(cls, axis)\u001b[39m\n\u001b[32m    576\u001b[39m             \u001b[38;5;28;01mreturn\u001b[39;00m cls._AXIS_TO_AXIS_NUMBER[axis]\n\u001b[32m    577\u001b[39m         \u001b[38;5;28;01mexcept\u001b[39;00m KeyError:\n\u001b[32m--> \u001b[39m\u001b[32m578\u001b[39m             \u001b[38;5;28;01mraise\u001b[39;00m ValueError(\u001b[33mf\"No axis named {axis} for object type {cls.__name__}\"\u001b[39m)\n",
      "\u001b[31mKeyError\u001b[39m: 'Salary'",
      "\nDuring handling of the above exception, another exception occurred:\n",
      "\u001b[31mValueError\u001b[39m                                Traceback (most recent call last)",
      "\u001b[32m~\\AppData\\Local\\Temp\\ipykernel_22336\\2241538509.py\u001b[39m in \u001b[36m?\u001b[39m\u001b[34m()\u001b[39m\n\u001b[32m----> \u001b[39m\u001b[32m1\u001b[39m print(df.groupby(\u001b[33m\"Age\"\u001b[39m,\u001b[33m\"Salary\"\u001b[39m)[\u001b[33m\"Salary\"\u001b[39m].sum())\n",
      "\u001b[32mc:\\Users\\ronit2007\\Desktop\\VirEnv\\pan\\Lib\\site-packages\\pandas\\core\\frame.py\u001b[39m in \u001b[36m?\u001b[39m\u001b[34m(self, by, axis, level, as_index, sort, group_keys, observed, dropna)\u001b[39m\n\u001b[32m   9156\u001b[39m         observed: bool | lib.NoDefault = lib.no_default,\n\u001b[32m   9157\u001b[39m         dropna: bool = \u001b[38;5;28;01mTrue\u001b[39;00m,\n\u001b[32m   9158\u001b[39m     ) -> DataFrameGroupBy:\n\u001b[32m   9159\u001b[39m         \u001b[38;5;28;01mif\u001b[39;00m axis \u001b[38;5;28;01mis\u001b[39;00m \u001b[38;5;28;01mnot\u001b[39;00m lib.no_default:\n\u001b[32m-> \u001b[39m\u001b[32m9160\u001b[39m             axis = self._get_axis_number(axis)\n\u001b[32m   9161\u001b[39m             \u001b[38;5;28;01mif\u001b[39;00m axis == \u001b[32m1\u001b[39m:\n\u001b[32m   9162\u001b[39m                 warnings.warn(\n\u001b[32m   9163\u001b[39m                     \u001b[33m\"DataFrame.groupby with axis=1 is deprecated. Do \"\u001b[39m\n",
      "\u001b[32mc:\\Users\\ronit2007\\Desktop\\VirEnv\\pan\\Lib\\site-packages\\pandas\\core\\generic.py\u001b[39m in \u001b[36m?\u001b[39m\u001b[34m(cls, axis)\u001b[39m\n\u001b[32m    574\u001b[39m     \u001b[38;5;28;01mdef\u001b[39;00m _get_axis_number(cls, axis: Axis) -> AxisInt:\n\u001b[32m    575\u001b[39m         \u001b[38;5;28;01mtry\u001b[39;00m:\n\u001b[32m    576\u001b[39m             \u001b[38;5;28;01mreturn\u001b[39;00m cls._AXIS_TO_AXIS_NUMBER[axis]\n\u001b[32m    577\u001b[39m         \u001b[38;5;28;01mexcept\u001b[39;00m KeyError:\n\u001b[32m--> \u001b[39m\u001b[32m578\u001b[39m             \u001b[38;5;28;01mraise\u001b[39;00m ValueError(\u001b[33mf\"No axis named {axis} for object type {cls.__name__}\"\u001b[39m)\n",
      "\u001b[31mValueError\u001b[39m: No axis named Salary for object type DataFrame"
     ]
    }
   ],
   "source": [
    "print(df.groupby(\"Age\",\"Salary\")[\"Salary\"].sum())"
   ]
  },
  {
   "cell_type": "code",
   "execution_count": 30,
   "metadata": {},
   "outputs": [
    {
     "name": "stdout",
     "output_type": "stream",
     "text": [
      "Age  Salary\n",
      "22   45000     45000.0\n",
      "28   40000     40000.0\n",
      "     50000     50000.0\n",
      "34   52000     52000.0\n",
      "     60000     60000.0\n",
      "Name: Salary, dtype: float64\n"
     ]
    }
   ],
   "source": [
    "data={\n",
    "    \"Name\":[\"Arun\",\"Varun\",\"Karun\",\"Narun\",\"Marun\"],\n",
    "    \"Age\":[28,34,22,34,28],\n",
    "    \"Salary\":[50000,60000,45000,52000,40000]\n",
    "}\n",
    "df=pd.DataFrame(data)\n",
    "print(df.groupby([\"Age\",\"Salary\"])[\"Salary\"].mean())"
   ]
  },
  {
   "cell_type": "markdown",
   "metadata": {},
   "source": [
    "1- sum()\n",
    "2- mean()\n",
    "3- count()\n",
    "4- min()\n",
    "5- max()\n",
    "6- std()\n"
   ]
  },
  {
   "cell_type": "markdown",
   "metadata": {},
   "source": [
    "Merging and joining "
   ]
  },
  {
   "cell_type": "code",
   "execution_count": 31,
   "metadata": {},
   "outputs": [],
   "source": [
    "# Merging data frames "
   ]
  },
  {
   "cell_type": "code",
   "execution_count": null,
   "metadata": {},
   "outputs": [
    {
     "name": "stdout",
     "output_type": "stream",
     "text": [
      "   Customer_ID    Name  OrderAmount\n",
      "0            1  Ramesh          250\n",
      "1            2  Suresh          450\n"
     ]
    },
    {
     "ename": "TypeError",
     "evalue": "concat() takes 1 positional argument but 2 positional arguments (and 2 keyword-only arguments) were given",
     "output_type": "error",
     "traceback": [
      "\u001b[31m---------------------------------------------------------------------------\u001b[39m",
      "\u001b[31mTypeError\u001b[39m                                 Traceback (most recent call last)",
      "\u001b[36mCell\u001b[39m\u001b[36m \u001b[39m\u001b[32mIn[38]\u001b[39m\u001b[32m, line 10\u001b[39m\n\u001b[32m      5\u001b[39m df_order=pd.DataFrame({\n\u001b[32m      6\u001b[39m     \u001b[33m\"\u001b[39m\u001b[33mCustomer_ID\u001b[39m\u001b[33m\"\u001b[39m:[\u001b[32m1\u001b[39m,\u001b[32m2\u001b[39m,\u001b[32m4\u001b[39m],\n\u001b[32m      7\u001b[39m     \u001b[33m\"\u001b[39m\u001b[33mOrderAmount\u001b[39m\u001b[33m\"\u001b[39m:[\u001b[32m250\u001b[39m,\u001b[32m450\u001b[39m,\u001b[32m350\u001b[39m]\n\u001b[32m      8\u001b[39m })\n\u001b[32m      9\u001b[39m \u001b[38;5;28mprint\u001b[39m(pd.merge(df_customer,df_order,on=\u001b[33m\"\u001b[39m\u001b[33mCustomer_ID\u001b[39m\u001b[33m\"\u001b[39m,how=\u001b[33m\"\u001b[39m\u001b[33minner\u001b[39m\u001b[33m\"\u001b[39m))\n\u001b[32m---> \u001b[39m\u001b[32m10\u001b[39m \u001b[38;5;28mprint\u001b[39m(\u001b[43mpd\u001b[49m\u001b[43m.\u001b[49m\u001b[43mconcat\u001b[49m\u001b[43m(\u001b[49m\u001b[43mdf_customer\u001b[49m\u001b[43m,\u001b[49m\u001b[43mdf_order\u001b[49m\u001b[43m,\u001b[49m\u001b[43maxis\u001b[49m\u001b[43m=\u001b[49m\u001b[32;43m0\u001b[39;49m\u001b[43m,\u001b[49m\u001b[43mignore_index\u001b[49m\u001b[43m=\u001b[49m\u001b[38;5;28;43;01mTrue\u001b[39;49;00m\u001b[43m)\u001b[49m)\n",
      "\u001b[31mTypeError\u001b[39m: concat() takes 1 positional argument but 2 positional arguments (and 2 keyword-only arguments) were given"
     ]
    }
   ],
   "source": [
    "df_customer=pd.DataFrame({\n",
    "    \"Customer_ID\":[1,2,3],\n",
    "    \"Name\":[\"Ramesh\",\"Suresh\",\"Kalpesh\"]\n",
    "})\n",
    "df_order=pd.DataFrame({\n",
    "    \"Customer_ID\":[1,2,4],\n",
    "    \"OrderAmount\":[250,450,350]\n",
    "})\n",
    "print(pd.merge(df_customer,df_order,on=\"Customer_ID\",how=\"inner\"))\n",
    "print(pd.concat(df_customer,df_order,axis=0,ignore_index=True))"
   ]
  },
  {
   "cell_type": "code",
   "execution_count": 39,
   "metadata": {},
   "outputs": [],
   "source": [
    "df_customer=pd.DataFrame({\n",
    "    \"Customer_ID\":[1,2,3],\n",
    "    \"Name\":[\"Ramesh\",\"Suresh\",\"Kalpesh\"]\n",
    "})\n",
    "df_order=pd.DataFrame({\n",
    "    \"Customer_ID\":[1,2,4],\n",
    "    \"OrderAmount\":[250,450,350]\n",
    "})"
   ]
  },
  {
   "cell_type": "code",
   "execution_count": 42,
   "metadata": {},
   "outputs": [
    {
     "name": "stdout",
     "output_type": "stream",
     "text": [
      "   0    1  2        3\n",
      "0  1  250  1   Ramesh\n",
      "1  2  450  2   Suresh\n",
      "2  4  350  3  Kalpesh\n"
     ]
    }
   ],
   "source": [
    "print(pd.concat([df_order,df_customer],axis=1,ignore_index=True))"
   ]
  },
  {
   "cell_type": "code",
   "execution_count": 3,
   "metadata": {},
   "outputs": [
    {
     "name": "stdout",
     "output_type": "stream",
     "text": [
      "2\n"
     ]
    }
   ],
   "source": [
    "import pandas as pd \n",
    "data={\n",
    "    'Name':['Ronit','Rishi'],\n",
    "    'Age':[20,23]\n",
    "}\n",
    "df=pd.DataFrame(data)\n",
    "print(len(df.columns))"
   ]
  },
  {
   "cell_type": "markdown",
   "metadata": {},
   "source": []
  }
 ],
 "metadata": {
  "kernelspec": {
   "display_name": "pan",
   "language": "python",
   "name": "python3"
  },
  "language_info": {
   "codemirror_mode": {
    "name": "ipython",
    "version": 3
   },
   "file_extension": ".py",
   "mimetype": "text/x-python",
   "name": "python",
   "nbconvert_exporter": "python",
   "pygments_lexer": "ipython3",
   "version": "3.11.9"
  }
 },
 "nbformat": 4,
 "nbformat_minor": 2
}
