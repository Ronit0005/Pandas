{
 "cells": [
  {
   "cell_type": "markdown",
   "metadata": {},
   "source": [
    "This is a revision file of python "
   ]
  },
  {
   "cell_type": "code",
   "execution_count": 3,
   "metadata": {},
   "outputs": [
    {
     "name": "stdout",
     "output_type": "stream",
     "text": [
      "       Name  Age  Salary  Performance_Measure\n",
      "0     Ronit   20    1000                   10\n",
      "1     Rishi   21     200                    7\n",
      "2     Rahul   22     300                    8\n",
      "3      Ansh   21     100                    9\n",
      "4    Sohail   22     400                    4\n",
      "5   Sridhar   23     200                    5\n",
      "6  Atharava   20    1000                    7\n",
      "7    Rounak   22     200                   10\n"
     ]
    }
   ],
   "source": [
    "import pandas as pd \n",
    "data={\n",
    "    \"Name\":['Ronit','Rishi','Rahul','Ansh','Sohail','Sridhar','Atharava','Rounak'],\n",
    "    \"Age\":[20,21,22,21,22,23,20,22],\n",
    "    \"Salary\":[1000,200,300,100,400,200,1000,200],\n",
    "    \"Performance_Measure\":[10,7,8,9,4,5,7,10]\n",
    "}\n",
    "df=pd.DataFrame(data)\n",
    "print(df)"
   ]
  },
  {
   "cell_type": "code",
   "execution_count": 5,
   "metadata": {},
   "outputs": [
    {
     "name": "stdout",
     "output_type": "stream",
     "text": [
      "      ORDERNUMBER  QUANTITYORDERED  PRICEEACH  ORDERLINENUMBER    SALES  \\\n",
      "0           10107               30      95.70                2  2871.00   \n",
      "1           10121               34      81.35                5  2765.90   \n",
      "2           10134               41      94.74                2  3884.34   \n",
      "3           10145               45      83.26                6  3746.70   \n",
      "4           10159               49     100.00               14  5205.27   \n",
      "...           ...              ...        ...              ...      ...   \n",
      "2818        10350               20     100.00               15  2244.40   \n",
      "2819        10373               29     100.00                1  3978.51   \n",
      "2820        10386               43     100.00                4  5417.57   \n",
      "2821        10397               34      62.24                1  2116.16   \n",
      "2822        10414               47      65.52                9  3079.44   \n",
      "\n",
      "            ORDERDATE    STATUS  QTR_ID  MONTH_ID  YEAR_ID  ...  \\\n",
      "0      2/24/2003 0:00   Shipped       1         2     2003  ...   \n",
      "1       5/7/2003 0:00   Shipped       2         5     2003  ...   \n",
      "2       7/1/2003 0:00   Shipped       3         7     2003  ...   \n",
      "3      8/25/2003 0:00   Shipped       3         8     2003  ...   \n",
      "4     10/10/2003 0:00   Shipped       4        10     2003  ...   \n",
      "...               ...       ...     ...       ...      ...  ...   \n",
      "2818   12/2/2004 0:00   Shipped       4        12     2004  ...   \n",
      "2819   1/31/2005 0:00   Shipped       1         1     2005  ...   \n",
      "2820    3/1/2005 0:00  Resolved       1         3     2005  ...   \n",
      "2821   3/28/2005 0:00   Shipped       1         3     2005  ...   \n",
      "2822    5/6/2005 0:00   On Hold       2         5     2005  ...   \n",
      "\n",
      "                       ADDRESSLINE1  ADDRESSLINE2           CITY STATE  \\\n",
      "0           897 Long Airport Avenue           NaN            NYC    NY   \n",
      "1                59 rue de l'Abbaye           NaN          Reims   NaN   \n",
      "2     27 rue du Colonel Pierre Avia           NaN          Paris   NaN   \n",
      "3                78934 Hillside Dr.           NaN       Pasadena    CA   \n",
      "4                   7734 Strong St.           NaN  San Francisco    CA   \n",
      "...                             ...           ...            ...   ...   \n",
      "2818             C/ Moralzarzal, 86           NaN         Madrid   NaN   \n",
      "2819                    Torikatu 38           NaN           Oulu   NaN   \n",
      "2820             C/ Moralzarzal, 86           NaN         Madrid   NaN   \n",
      "2821          1 rue Alsace-Lorraine           NaN       Toulouse   NaN   \n",
      "2822             8616 Spinnaker Dr.           NaN         Boston    MA   \n",
      "\n",
      "     POSTALCODE  COUNTRY TERRITORY CONTACTLASTNAME CONTACTFIRSTNAME DEALSIZE  \n",
      "0         10022      USA       NaN              Yu             Kwai    Small  \n",
      "1         51100   France      EMEA         Henriot             Paul    Small  \n",
      "2         75508   France      EMEA        Da Cunha           Daniel   Medium  \n",
      "3         90003      USA       NaN           Young            Julie   Medium  \n",
      "4           NaN      USA       NaN           Brown            Julie   Medium  \n",
      "...         ...      ...       ...             ...              ...      ...  \n",
      "2818      28034    Spain      EMEA          Freyre            Diego    Small  \n",
      "2819      90110  Finland      EMEA       Koskitalo           Pirkko   Medium  \n",
      "2820      28034    Spain      EMEA          Freyre            Diego   Medium  \n",
      "2821      31000   France      EMEA          Roulet          Annette    Small  \n",
      "2822      51003      USA       NaN         Yoshido             Juri   Medium  \n",
      "\n",
      "[2823 rows x 25 columns]\n"
     ]
    }
   ],
   "source": [
    "df=pd.read_csv('sales_data_sample.csv',encoding=\"latin1\")\n",
    "print(df)"
   ]
  },
  {
   "cell_type": "code",
   "execution_count": 7,
   "metadata": {},
   "outputs": [
    {
     "name": "stdout",
     "output_type": "stream",
     "text": [
      "      Row ID        Order ID Order Date  Ship Date       Ship Mode  \\\n",
      "0          1  CA-2016-152156 2016-11-08 2016-11-11    Second Class   \n",
      "1          2  CA-2016-152156 2016-11-08 2016-11-11    Second Class   \n",
      "2          3  CA-2016-138688 2016-06-12 2016-06-16    Second Class   \n",
      "3          4  US-2015-108966 2015-10-11 2015-10-18  Standard Class   \n",
      "4          5  US-2015-108966 2015-10-11 2015-10-18  Standard Class   \n",
      "...      ...             ...        ...        ...             ...   \n",
      "9989    9990  CA-2014-110422 2014-01-21 2014-01-23    Second Class   \n",
      "9990    9991  CA-2017-121258 2017-02-26 2017-03-03  Standard Class   \n",
      "9991    9992  CA-2017-121258 2017-02-26 2017-03-03  Standard Class   \n",
      "9992    9993  CA-2017-121258 2017-02-26 2017-03-03  Standard Class   \n",
      "9993    9994  CA-2017-119914 2017-05-04 2017-05-09    Second Class   \n",
      "\n",
      "     Customer ID     Customer Name    Segment        Country             City  \\\n",
      "0       CG-12520       Claire Gute   Consumer  United States        Henderson   \n",
      "1       CG-12520       Claire Gute   Consumer  United States        Henderson   \n",
      "2       DV-13045   Darrin Van Huff  Corporate  United States      Los Angeles   \n",
      "3       SO-20335    Sean O'Donnell   Consumer  United States  Fort Lauderdale   \n",
      "4       SO-20335    Sean O'Donnell   Consumer  United States  Fort Lauderdale   \n",
      "...          ...               ...        ...            ...              ...   \n",
      "9989    TB-21400  Tom Boeckenhauer   Consumer  United States            Miami   \n",
      "9990    DB-13060       Dave Brooks   Consumer  United States       Costa Mesa   \n",
      "9991    DB-13060       Dave Brooks   Consumer  United States       Costa Mesa   \n",
      "9992    DB-13060       Dave Brooks   Consumer  United States       Costa Mesa   \n",
      "9993    CC-12220      Chris Cortes   Consumer  United States      Westminster   \n",
      "\n",
      "      ... Postal Code  Region       Product ID         Category Sub-Category  \\\n",
      "0     ...       42420   South  FUR-BO-10001798        Furniture    Bookcases   \n",
      "1     ...       42420   South  FUR-CH-10000454        Furniture       Chairs   \n",
      "2     ...       90036    West  OFF-LA-10000240  Office Supplies       Labels   \n",
      "3     ...       33311   South  FUR-TA-10000577        Furniture       Tables   \n",
      "4     ...       33311   South  OFF-ST-10000760  Office Supplies      Storage   \n",
      "...   ...         ...     ...              ...              ...          ...   \n",
      "9989  ...       33180   South  FUR-FU-10001889        Furniture  Furnishings   \n",
      "9990  ...       92627    West  FUR-FU-10000747        Furniture  Furnishings   \n",
      "9991  ...       92627    West  TEC-PH-10003645       Technology       Phones   \n",
      "9992  ...       92627    West  OFF-PA-10004041  Office Supplies        Paper   \n",
      "9993  ...       92683    West  OFF-AP-10002684  Office Supplies   Appliances   \n",
      "\n",
      "                                           Product Name     Sales  Quantity  \\\n",
      "0                     Bush Somerset Collection Bookcase  261.9600         2   \n",
      "1     Hon Deluxe Fabric Upholstered Stacking Chairs,...  731.9400         3   \n",
      "2     Self-Adhesive Address Labels for Typewriters b...   14.6200         2   \n",
      "3         Bretford CR4500 Series Slim Rectangular Table  957.5775         5   \n",
      "4                        Eldon Fold 'N Roll Cart System   22.3680         2   \n",
      "...                                                 ...       ...       ...   \n",
      "9989                             Ultra Door Pull Handle   25.2480         3   \n",
      "9990  Tenex B1-RE Series Chair Mats for Low Pile Car...   91.9600         2   \n",
      "9991                              Aastra 57i VoIP phone  258.5760         2   \n",
      "9992  It's Hot Message Books with Stickers, 2 3/4\" x 5\"   29.6000         4   \n",
      "9993  Acco 7-Outlet Masterpiece Power Center, Wihtou...  243.1600         2   \n",
      "\n",
      "      Discount    Profit  \n",
      "0         0.00   41.9136  \n",
      "1         0.00  219.5820  \n",
      "2         0.00    6.8714  \n",
      "3         0.45 -383.0310  \n",
      "4         0.20    2.5164  \n",
      "...        ...       ...  \n",
      "9989      0.20    4.1028  \n",
      "9990      0.00   15.6332  \n",
      "9991      0.20   19.3932  \n",
      "9992      0.00   13.3200  \n",
      "9993      0.00   72.9480  \n",
      "\n",
      "[9994 rows x 21 columns]\n"
     ]
    }
   ],
   "source": [
    "print(pd.read_excel('SampleSuperstore.xlsx'))"
   ]
  },
  {
   "cell_type": "code",
   "execution_count": 8,
   "metadata": {},
   "outputs": [
    {
     "name": "stdout",
     "output_type": "stream",
     "text": [
      "    id                                               name  \\\n",
      "0    1                                    Apple iPhone 12   \n",
      "1    2                                 Samsung Galaxy S21   \n",
      "2    3                                 Sony PlayStation 5   \n",
      "3    4                  LG OLED55CXPUA 55-inch 4K OLED TV   \n",
      "4    5        Bose QuietComfort 35 II Wireless Headphones   \n",
      "5    6                          Fitbit Versa 3 Smartwatch   \n",
      "6    7                             KitchenAid Stand Mixer   \n",
      "7    8                 Dyson V11 Absolute Cordless Vacuum   \n",
      "8    9                         Ninja Foodi Smart XL Grill   \n",
      "9   10                    Canon EOS Rebel T8i DSLR Camera   \n",
      "10  11                                  Apple AirPods Pro   \n",
      "11  12        Bose QuietComfort 35 II Wireless Headphones   \n",
      "12  13                    Fitbit Charge 4 Fitness Tracker   \n",
      "13  14                              Samsung Galaxy Watch3   \n",
      "14  15  Sony WH-1000XM4 Wireless Noise-Cancelling Head...   \n",
      "15  16          Breville Barista Express Espresso Machine   \n",
      "16  17                        Keurig K-Elite Coffee Maker   \n",
      "17  18                     iRobot Roomba i7+ Robot Vacuum   \n",
      "18  19                   Ninja Foodi Digital Air Fry Oven   \n",
      "19  20                   Cuisinart ICE-70 Ice Cream Maker   \n",
      "\n",
      "                                          description    price  \\\n",
      "0   The Apple iPhone 12 features a 6.1-inch Super ...   999.00   \n",
      "1   The Samsung Galaxy S21 features a 6.2-inch Dyn...   799.00   \n",
      "2   The Sony PlayStation 5 features an AMD Zen 2-b...   499.99   \n",
      "3   The LG OLED55CXPUA 55-inch 4K OLED TV features...  1599.99   \n",
      "4   The Bose QuietComfort 35 II Wireless Headphone...   299.00   \n",
      "5   The Fitbit Versa 3 Smartwatch features a built...   229.95   \n",
      "6   The KitchenAid Stand Mixer features a 5-quart ...   399.99   \n",
      "7   The Dyson V11 Absolute Cordless Vacuum feature...   699.99   \n",
      "8   The Ninja Foodi Smart XL Grill features 6-in-1...   279.99   \n",
      "9   The Canon EOS Rebel T8i DSLR Camera features a...   899.00   \n",
      "10  The Apple AirPods Pro feature active noise can...   249.00   \n",
      "11  The Bose QuietComfort 35 II Wireless Headphone...   299.00   \n",
      "12  The Fitbit Charge 4 Fitness Tracker features G...   129.95   \n",
      "13  The Samsung Galaxy Watch3 features a rotating ...   399.99   \n",
      "14  The Sony WH-1000XM4 Wireless Noise-Cancelling ...   349.99   \n",
      "15  The Breville Barista Express Espresso Machine ...   699.95   \n",
      "16  The Keurig K-Elite Coffee Maker features a str...   169.99   \n",
      "17  The iRobot Roomba i7+ Robot Vacuum features au...   799.99   \n",
      "18  The Ninja Foodi Digital Air Fry Oven features ...   209.99   \n",
      "19  The Cuisinart ICE-70 Ice Cream Maker features ...   139.99   \n",
      "\n",
      "           category                                              image  \n",
      "0       Electronics  https://www.apple.com/newsroom/images/product/...  \n",
      "1       Electronics  https://images.samsung.com/is/image/samsung/p6...  \n",
      "2       Electronics  https://www.sony.com/image/44baa604124b770c824...  \n",
      "3       Electronics  https://www.lg.com/us/images/tvs/md07501804/ga...  \n",
      "4       Electronics  https://assets.bose.com/content/dam/Bose_DAM/W...  \n",
      "5       Electronics  https://www.fitbit.com/global/content/dam/fitb...  \n",
      "6    Home & Kitchen  https://www.kitchenaid.com/content/dam/global/...  \n",
      "7   Home Appliances  https://www.dysoncanada.ca/dam/dyson/images/pr...  \n",
      "8    Home & Kitchen  https://www.ninjakitchen.com/medias/Ninja-OP50...  \n",
      "9       Electronics  https://www.canon.com.au/-/media/images/produc...  \n",
      "10      Electronics  https://www.apple.com/v/airpods-pro/b/images/m...  \n",
      "11      Electronics  https://assets.bose.com/content/dam/Bose_DAM/W...  \n",
      "12      Electronics  https://www.fitbit.com/global/content/dam/fitb...  \n",
      "13      Electronics  https://images.samsung.com/is/image/samsung/as...  \n",
      "14      Electronics  https://www.sony.com/image/1cdd6354c4cd21cc4f7...  \n",
      "15   Home & Kitchen  https://www.breville.com/content/dam/breville/...  \n",
      "16   Home & Kitchen  https://www.keurig.com/content/dam/global-ecom...  \n",
      "17   Home & Kitchen  https://store.irobot.com/default/i7-vacuuming-...  \n",
      "18   Home & Kitchen  https://www.ninjakitchen.com/static/img/produc...  \n",
      "19   Home & Kitchen  https://www.cuisinart.com/share/images/product...  \n"
     ]
    }
   ],
   "source": [
    "print(pd.read_json('sample_Data.json'))"
   ]
  },
  {
   "cell_type": "code",
   "execution_count": 20,
   "metadata": {},
   "outputs": [
    {
     "name": "stdout",
     "output_type": "stream",
     "text": [
      "       Name  Age  Salary  Performance_Measure\n",
      "0     Ronit   20    1000                   10\n",
      "1     Rishi   21     200                    7\n",
      "2     Rahul   22     300                    8\n",
      "3      Ansh   21     100                    9\n",
      "4    Sohail   22     400                    4\n",
      "5   Sridhar   23     200                    5\n",
      "6  Atharava   20    1000                    7\n",
      "7    Rounak   22     200                   10\n"
     ]
    }
   ],
   "source": [
    "data={\n",
    "    \"Name\":['Ronit','Rishi','Rahul','Ansh','Sohail','Sridhar','Atharava','Rounak'],\n",
    "    \"Age\":[20,21,22,21,22,23,20,22],\n",
    "    \"Salary\":[1000,200,300,100,400,200,1000,200],\n",
    "    \"Performance_Measure\":[10,7,8,9,4,5,7,10]\n",
    "}\n",
    "df=pd.DataFrame(data)\n",
    "print(df)"
   ]
  },
  {
   "cell_type": "code",
   "execution_count": 12,
   "metadata": {},
   "outputs": [],
   "source": [
    "df.to_csv(\"Csv2_file.csv\",index=False)"
   ]
  },
  {
   "cell_type": "code",
   "execution_count": 13,
   "metadata": {},
   "outputs": [],
   "source": [
    "df.to_json(\"Json2_file.json\")"
   ]
  },
  {
   "cell_type": "code",
   "execution_count": 14,
   "metadata": {},
   "outputs": [
    {
     "name": "stdout",
     "output_type": "stream",
     "text": [
      "    Name  Age  Salary  Performance_Measure\n",
      "0  Ronit   20    1000                   10\n",
      "1  Rishi   21     200                    7\n"
     ]
    }
   ],
   "source": [
    "print(df.head(2))"
   ]
  },
  {
   "cell_type": "code",
   "execution_count": 15,
   "metadata": {},
   "outputs": [
    {
     "name": "stdout",
     "output_type": "stream",
     "text": [
      "       Name  Age  Salary  Performance_Measure\n",
      "6  Atharava   20    1000                    7\n",
      "7    Rounak   22     200                   10\n"
     ]
    }
   ],
   "source": [
    "print(df.tail(2))"
   ]
  },
  {
   "cell_type": "code",
   "execution_count": 16,
   "metadata": {},
   "outputs": [
    {
     "name": "stdout",
     "output_type": "stream",
     "text": [
      "     Name  Age  Salary  Performance_Measure\n",
      "0   Ronit   20    1000                   10\n",
      "1   Rishi   21     200                    7\n",
      "2   Rahul   22     300                    8\n",
      "3    Ansh   21     100                    9\n",
      "4  Sohail   22     400                    4\n"
     ]
    }
   ],
   "source": [
    "print(df.head())"
   ]
  },
  {
   "cell_type": "code",
   "execution_count": 17,
   "metadata": {},
   "outputs": [
    {
     "name": "stdout",
     "output_type": "stream",
     "text": [
      "       Name  Age  Salary  Performance_Measure\n",
      "3      Ansh   21     100                    9\n",
      "4    Sohail   22     400                    4\n",
      "5   Sridhar   23     200                    5\n",
      "6  Atharava   20    1000                    7\n",
      "7    Rounak   22     200                   10\n"
     ]
    }
   ],
   "source": [
    "print(df.tail())"
   ]
  },
  {
   "cell_type": "code",
   "execution_count": 18,
   "metadata": {},
   "outputs": [
    {
     "name": "stdout",
     "output_type": "stream",
     "text": [
      "<class 'pandas.core.frame.DataFrame'>\n",
      "RangeIndex: 8 entries, 0 to 7\n",
      "Data columns (total 4 columns):\n",
      " #   Column               Non-Null Count  Dtype \n",
      "---  ------               --------------  ----- \n",
      " 0   Name                 8 non-null      object\n",
      " 1   Age                  8 non-null      int64 \n",
      " 2   Salary               8 non-null      int64 \n",
      " 3   Performance_Measure  8 non-null      int64 \n",
      "dtypes: int64(3), object(1)\n",
      "memory usage: 388.0+ bytes\n",
      "None\n"
     ]
    }
   ],
   "source": [
    "print(df.info())"
   ]
  },
  {
   "cell_type": "code",
   "execution_count": 21,
   "metadata": {},
   "outputs": [
    {
     "name": "stdout",
     "output_type": "stream",
     "text": [
      "            Age       Salary  Performance_Measure\n",
      "count   8.00000     8.000000             8.000000\n",
      "mean   21.37500   425.000000             7.500000\n",
      "std     1.06066   365.474252             2.203893\n",
      "min    20.00000   100.000000             4.000000\n",
      "25%    20.75000   200.000000             6.500000\n",
      "50%    21.50000   250.000000             7.500000\n",
      "75%    22.00000   550.000000             9.250000\n",
      "max    23.00000  1000.000000            10.000000\n",
      "       Name  Age  Salary  Performance_Measure\n",
      "0     Ronit   20    1000                   10\n",
      "1     Rishi   21     200                    7\n",
      "2     Rahul   22     300                    8\n",
      "3      Ansh   21     100                    9\n",
      "4    Sohail   22     400                    4\n",
      "5   Sridhar   23     200                    5\n",
      "6  Atharava   20    1000                    7\n",
      "7    Rounak   22     200                   10\n"
     ]
    }
   ],
   "source": [
    "print(df.describe())\n",
    "print(df)"
   ]
  },
  {
   "cell_type": "code",
   "execution_count": 22,
   "metadata": {},
   "outputs": [
    {
     "name": "stdout",
     "output_type": "stream",
     "text": [
      "(8, 4)\n"
     ]
    }
   ],
   "source": [
    "print(df.shape)"
   ]
  },
  {
   "cell_type": "code",
   "execution_count": 23,
   "metadata": {},
   "outputs": [
    {
     "name": "stdout",
     "output_type": "stream",
     "text": [
      "Index(['Name', 'Age', 'Salary', 'Performance_Measure'], dtype='object')\n"
     ]
    }
   ],
   "source": [
    "print(df.columns)"
   ]
  },
  {
   "cell_type": "code",
   "execution_count": 24,
   "metadata": {},
   "outputs": [
    {
     "name": "stdout",
     "output_type": "stream",
     "text": [
      "0       Ronit\n",
      "1       Rishi\n",
      "2       Rahul\n",
      "3        Ansh\n",
      "4      Sohail\n",
      "5     Sridhar\n",
      "6    Atharava\n",
      "7      Rounak\n",
      "Name: Name, dtype: object\n"
     ]
    }
   ],
   "source": [
    "print(df[\"Name\"])"
   ]
  },
  {
   "cell_type": "code",
   "execution_count": 25,
   "metadata": {},
   "outputs": [
    {
     "name": "stdout",
     "output_type": "stream",
     "text": [
      "0    20\n",
      "1    21\n",
      "2    22\n",
      "3    21\n",
      "4    22\n",
      "5    23\n",
      "6    20\n",
      "7    22\n",
      "Name: Age, dtype: int64\n"
     ]
    }
   ],
   "source": [
    "print(df[\"Age\"])"
   ]
  },
  {
   "cell_type": "code",
   "execution_count": 26,
   "metadata": {},
   "outputs": [
    {
     "name": "stdout",
     "output_type": "stream",
     "text": [
      "   Age      Name\n",
      "0   20     Ronit\n",
      "1   21     Rishi\n",
      "2   22     Rahul\n",
      "3   21      Ansh\n",
      "4   22    Sohail\n",
      "5   23   Sridhar\n",
      "6   20  Atharava\n",
      "7   22    Rounak\n"
     ]
    }
   ],
   "source": [
    "print(df[[\"Age\",\"Name\"]])"
   ]
  },
  {
   "cell_type": "code",
   "execution_count": 27,
   "metadata": {},
   "outputs": [],
   "source": [
    "# To access rows based on given condition "
   ]
  },
  {
   "cell_type": "code",
   "execution_count": 28,
   "metadata": {},
   "outputs": [
    {
     "name": "stdout",
     "output_type": "stream",
     "text": [
      "0    False\n",
      "1    False\n",
      "2    False\n",
      "3    False\n",
      "4    False\n",
      "5     True\n",
      "6    False\n",
      "7    False\n",
      "Name: Age, dtype: bool\n"
     ]
    }
   ],
   "source": [
    "print(df[\"Age\"]>22)"
   ]
  },
  {
   "cell_type": "code",
   "execution_count": 29,
   "metadata": {},
   "outputs": [
    {
     "name": "stdout",
     "output_type": "stream",
     "text": [
      "      Name  Age  Salary  Performance_Measure\n",
      "5  Sridhar   23     200                    5\n"
     ]
    }
   ],
   "source": [
    "print(df[df[\"Age\"]>22])"
   ]
  },
  {
   "cell_type": "code",
   "execution_count": 32,
   "metadata": {},
   "outputs": [
    {
     "name": "stdout",
     "output_type": "stream",
     "text": [
      "     Name  Age  Salary  Performance_Measure\n",
      "4  Sohail   22     400                    4\n"
     ]
    }
   ],
   "source": [
    "print(df[(df[\"Age\"]>21)&(df[\"Salary\"]>300)])"
   ]
  },
  {
   "cell_type": "code",
   "execution_count": 33,
   "metadata": {},
   "outputs": [
    {
     "name": "stdout",
     "output_type": "stream",
     "text": [
      "     Name  Age  Salary  Performance_Measure\n",
      "0   Ronit   20    1000                   10\n",
      "1   Rishi   21     200                    7\n",
      "2   Rahul   22     300                    8\n",
      "3    Ansh   21     100                    9\n",
      "4  Sohail   22     400                    4\n"
     ]
    }
   ],
   "source": [
    "gf=pd.read_csv(\"Csv2_file.csv\",encoding=\"latin1\")\n",
    "print(gf.head())"
   ]
  },
  {
   "cell_type": "markdown",
   "metadata": {},
   "source": [
    "Adding new column to the data set .\n"
   ]
  },
  {
   "cell_type": "code",
   "execution_count": 1,
   "metadata": {},
   "outputs": [],
   "source": [
    "import pandas as pd\n"
   ]
  },
  {
   "cell_type": "code",
   "execution_count": 2,
   "metadata": {},
   "outputs": [],
   "source": [
    "data={\n",
    "    \"Name\":['Ronit','Rishi','Rahul','Ansh','Sohail','Sridhar','Atharava','Rounak'],\n",
    "    \"Age\":[20,21,22,21,22,23,20,22],\n",
    "    \"Salary\":[1000,200,300,100,400,200,1000,200],\n",
    "    \"Performance_Measure\":[10,7,8,9,4,5,7,10]\n",
    "}\n",
    "df=pd.DataFrame(data)"
   ]
  },
  {
   "cell_type": "code",
   "execution_count": 3,
   "metadata": {},
   "outputs": [],
   "source": [
    "df[\"Behaviour\"]=[\"Good\",\"Bad\",\"Bad\",\"Good\",\"Good\",\"Good\",\"Good\",\"Good\"]"
   ]
  },
  {
   "cell_type": "code",
   "execution_count": 4,
   "metadata": {},
   "outputs": [
    {
     "name": "stdout",
     "output_type": "stream",
     "text": [
      "       Name  Age  Salary  Performance_Measure Behaviour\n",
      "0     Ronit   20    1000                   10      Good\n",
      "1     Rishi   21     200                    7       Bad\n",
      "2     Rahul   22     300                    8       Bad\n",
      "3      Ansh   21     100                    9      Good\n",
      "4    Sohail   22     400                    4      Good\n",
      "5   Sridhar   23     200                    5      Good\n",
      "6  Atharava   20    1000                    7      Good\n",
      "7    Rounak   22     200                   10      Good\n"
     ]
    }
   ],
   "source": [
    "print(df)"
   ]
  },
  {
   "cell_type": "markdown",
   "metadata": {},
   "source": [
    "Inserting column at particular index ."
   ]
  },
  {
   "cell_type": "code",
   "execution_count": 5,
   "metadata": {},
   "outputs": [],
   "source": [
    "df.insert(3,\"Intelligence\",[10,2,5,3,10,2,8,10])"
   ]
  },
  {
   "cell_type": "code",
   "execution_count": 6,
   "metadata": {},
   "outputs": [
    {
     "name": "stdout",
     "output_type": "stream",
     "text": [
      "       Name  Age  Salary  Intelligence  Performance_Measure Behaviour\n",
      "0     Ronit   20    1000            10                   10      Good\n",
      "1     Rishi   21     200             2                    7       Bad\n",
      "2     Rahul   22     300             5                    8       Bad\n",
      "3      Ansh   21     100             3                    9      Good\n",
      "4    Sohail   22     400            10                    4      Good\n",
      "5   Sridhar   23     200             2                    5      Good\n",
      "6  Atharava   20    1000             8                    7      Good\n",
      "7    Rounak   22     200            10                   10      Good\n"
     ]
    }
   ],
   "source": [
    "print(df)"
   ]
  },
  {
   "cell_type": "markdown",
   "metadata": {},
   "source": [
    "Updating specific cell"
   ]
  },
  {
   "cell_type": "code",
   "execution_count": 7,
   "metadata": {},
   "outputs": [],
   "source": [
    "df.loc[2,\"Intelligence\"]=9"
   ]
  },
  {
   "cell_type": "code",
   "execution_count": 8,
   "metadata": {},
   "outputs": [
    {
     "name": "stdout",
     "output_type": "stream",
     "text": [
      "       Name  Age  Salary  Intelligence  Performance_Measure Behaviour\n",
      "0     Ronit   20    1000            10                   10      Good\n",
      "1     Rishi   21     200             2                    7       Bad\n",
      "2     Rahul   22     300             9                    8       Bad\n",
      "3      Ansh   21     100             3                    9      Good\n",
      "4    Sohail   22     400            10                    4      Good\n",
      "5   Sridhar   23     200             2                    5      Good\n",
      "6  Atharava   20    1000             8                    7      Good\n",
      "7    Rounak   22     200            10                   10      Good\n"
     ]
    }
   ],
   "source": [
    "print(df)"
   ]
  },
  {
   "cell_type": "markdown",
   "metadata": {},
   "source": [
    "Removing column from a data set "
   ]
  },
  {
   "cell_type": "code",
   "execution_count": 9,
   "metadata": {},
   "outputs": [],
   "source": [
    "df.drop(columns=[\"Behaviour\"],inplace=True)"
   ]
  },
  {
   "cell_type": "code",
   "execution_count": 10,
   "metadata": {},
   "outputs": [
    {
     "name": "stdout",
     "output_type": "stream",
     "text": [
      "       Name  Age  Salary  Intelligence  Performance_Measure\n",
      "0     Ronit   20    1000            10                   10\n",
      "1     Rishi   21     200             2                    7\n",
      "2     Rahul   22     300             9                    8\n",
      "3      Ansh   21     100             3                    9\n",
      "4    Sohail   22     400            10                    4\n",
      "5   Sridhar   23     200             2                    5\n",
      "6  Atharava   20    1000             8                    7\n",
      "7    Rounak   22     200            10                   10\n"
     ]
    }
   ],
   "source": [
    "print(df)"
   ]
  },
  {
   "cell_type": "markdown",
   "metadata": {},
   "source": [
    "Removing multiple column from a data set ."
   ]
  },
  {
   "cell_type": "code",
   "execution_count": 11,
   "metadata": {},
   "outputs": [
    {
     "name": "stdout",
     "output_type": "stream",
     "text": [
      "       Name  Age  Salary  Intelligence  Performance_Measure fuck Girl_friend\n",
      "0     Ronit   20    1000            10                   10   no          no\n",
      "1     Rishi   21     200             2                    7   no         yes\n",
      "2     Rahul   22     300             9                    8   no         yes\n",
      "3      Ansh   21     100             3                    9   no          no\n",
      "4    Sohail   22     400            10                    4   no          no\n",
      "5   Sridhar   23     200             2                    5  yes          no\n",
      "6  Atharava   20    1000             8                    7   no         yes\n",
      "7    Rounak   22     200            10                   10   no          no\n"
     ]
    }
   ],
   "source": [
    "df[\"fuck\"]=['no','no','no','no','no','yes','no','no']\n",
    "df[\"Girl_friend\"]=[\"no\",\"yes\",\"yes\",\"no\",\"no\",\"no\",\"yes\",\"no\"]\n",
    "print(df)"
   ]
  },
  {
   "cell_type": "markdown",
   "metadata": {},
   "source": [
    "Removing multiple column from a data set "
   ]
  },
  {
   "cell_type": "code",
   "execution_count": 12,
   "metadata": {},
   "outputs": [],
   "source": [
    "df.drop(columns=[\"fuck\",\"Girl_friend\"],inplace=True)"
   ]
  },
  {
   "cell_type": "code",
   "execution_count": 13,
   "metadata": {},
   "outputs": [
    {
     "name": "stdout",
     "output_type": "stream",
     "text": [
      "       Name  Age  Salary  Intelligence  Performance_Measure\n",
      "0     Ronit   20    1000            10                   10\n",
      "1     Rishi   21     200             2                    7\n",
      "2     Rahul   22     300             9                    8\n",
      "3      Ansh   21     100             3                    9\n",
      "4    Sohail   22     400            10                    4\n",
      "5   Sridhar   23     200             2                    5\n",
      "6  Atharava   20    1000             8                    7\n",
      "7    Rounak   22     200            10                   10\n"
     ]
    }
   ],
   "source": [
    "print(df)"
   ]
  },
  {
   "cell_type": "markdown",
   "metadata": {},
   "source": [
    "Knowing the null data cells "
   ]
  },
  {
   "cell_type": "code",
   "execution_count": 21,
   "metadata": {},
   "outputs": [],
   "source": [
    "data={\n",
    "    \"Name\":['Ronit','Rishi','Rahul','Ansh','Sohail','Sridhar','Atharava','Rounak'],\n",
    "    \"Age\":[20,21,22,21,22,23,20,22],\n",
    "    \"Salary\":[1000,200,300,100,400,200,1000,200],\n",
    "    \"Performance_Measure\":[10,7,8,9,4,5,7,10]\n",
    "}\n",
    "df=pd.DataFrame(data)"
   ]
  },
  {
   "cell_type": "code",
   "execution_count": 22,
   "metadata": {},
   "outputs": [
    {
     "name": "stdout",
     "output_type": "stream",
     "text": [
      "    Name    Age  Salary  Performance_Measure\n",
      "0  False  False   False                False\n",
      "1  False  False   False                False\n",
      "2  False  False   False                False\n",
      "3  False  False   False                False\n",
      "4  False  False   False                False\n",
      "5  False  False   False                False\n",
      "6  False  False   False                False\n",
      "7  False  False   False                False\n"
     ]
    }
   ],
   "source": [
    "print(df.isnull())"
   ]
  },
  {
   "cell_type": "code",
   "execution_count": 23,
   "metadata": {},
   "outputs": [
    {
     "name": "stdout",
     "output_type": "stream",
     "text": [
      "Name                   RonitRishiRahulAnshSohailSridharAtharavaRounak\n",
      "Age                                                               171\n",
      "Salary                                                           3400\n",
      "Performance_Measure                                                60\n",
      "dtype: object\n"
     ]
    }
   ],
   "source": [
    "print(df.sum())"
   ]
  },
  {
   "cell_type": "code",
   "execution_count": 24,
   "metadata": {},
   "outputs": [
    {
     "name": "stdout",
     "output_type": "stream",
     "text": [
      "Name                   0\n",
      "Age                    0\n",
      "Salary                 0\n",
      "Performance_Measure    0\n",
      "dtype: int64\n"
     ]
    }
   ],
   "source": [
    "print(df.isnull().sum())"
   ]
  },
  {
   "cell_type": "code",
   "execution_count": 25,
   "metadata": {},
   "outputs": [
    {
     "name": "stdout",
     "output_type": "stream",
     "text": [
      "       Name  Age  Salary  Performance_Measure\n",
      "0     Ronit   20    1000                   10\n",
      "1     Rishi   21     200                    7\n",
      "2     Rahul   22     300                    8\n",
      "3      Ansh   21     100                    9\n",
      "4    Sohail   22     400                    4\n",
      "5   Sridhar   23     200                    5\n",
      "6  Atharava   20    1000                    7\n",
      "7    Rounak   22     200                   10\n"
     ]
    }
   ],
   "source": [
    "print(df.dropna())"
   ]
  },
  {
   "cell_type": "code",
   "execution_count": 32,
   "metadata": {},
   "outputs": [
    {
     "name": "stdout",
     "output_type": "stream",
     "text": [
      "None\n",
      "       Name  Age  Salary  Performance_Measure\n",
      "0     Ronit   20    1000                   10\n",
      "2     Rahul   22     300                    8\n",
      "3      Ansh   21     100                    9\n",
      "4    Sohail   22     400                    4\n",
      "5   Sridhar   23     200                    5\n",
      "6  Atharava   20    1000                    7\n",
      "7    Rounak   22     200                   10\n"
     ]
    }
   ],
   "source": [
    "data={\n",
    "    \"Name\":['Ronit',None,'Rahul','Ansh','Sohail','Sridhar','Atharava','Rounak'],\n",
    "    \"Age\":[20,21,22,21,22,23,20,22],\n",
    "    \"Salary\":[1000,200,300,100,400,200,1000,200],\n",
    "    \"Performance_Measure\":[10,7,8,9,4,5,7,10]\n",
    "}\n",
    "df=pd.DataFrame(data)\n",
    "print(df.dropna(inplace=True))\n",
    "print(df)\n"
   ]
  },
  {
   "cell_type": "code",
   "execution_count": 35,
   "metadata": {},
   "outputs": [],
   "source": [
    "data={\n",
    "    \"Name\":['Ronit',None,'Rahul','Ansh','Sohail','Sridhar','Atharava','Rounak'],\n",
    "    \"Age\":[20,21,22,21,22,23,20,22],\n",
    "    \"Salary\":[1000,200,300,100,400,200,1000,200],\n",
    "    \"Performance_Measure\":[10,7,8,9,4,5,7,10]\n",
    "}\n",
    "df=pd.DataFrame(data)\n",
    "df.fillna(\"Rishi\",inplace=True)"
   ]
  },
  {
   "cell_type": "code",
   "execution_count": 36,
   "metadata": {},
   "outputs": [
    {
     "name": "stdout",
     "output_type": "stream",
     "text": [
      "       Name  Age  Salary  Performance_Measure\n",
      "0     Ronit   20    1000                   10\n",
      "1     Rishi   21     200                    7\n",
      "2     Rahul   22     300                    8\n",
      "3      Ansh   21     100                    9\n",
      "4    Sohail   22     400                    4\n",
      "5   Sridhar   23     200                    5\n",
      "6  Atharava   20    1000                    7\n",
      "7    Rounak   22     200                   10\n"
     ]
    }
   ],
   "source": [
    "print(df)"
   ]
  },
  {
   "cell_type": "markdown",
   "metadata": {},
   "source": [
    "Handling the missing values by mean of the method "
   ]
  },
  {
   "cell_type": "code",
   "execution_count": 69,
   "metadata": {},
   "outputs": [
    {
     "name": "stdout",
     "output_type": "stream",
     "text": [
      "       Name  Age  Salary  Performance_Measure\n",
      "0     Ronit   20     NaN                   10\n",
      "1     Rishi   21   200.0                    7\n",
      "2     Rahul   22   300.0                    8\n",
      "3      Ansh   21   100.0                    9\n",
      "4    Sohail   22   400.0                    4\n",
      "5   Sridhar   23   200.0                    5\n",
      "6  Atharava   20  1000.0                    7\n",
      "7    Rounak   22   200.0                   10\n"
     ]
    },
    {
     "name": "stderr",
     "output_type": "stream",
     "text": [
      "C:\\Users\\ronit2007\\AppData\\Local\\Temp\\ipykernel_26068\\2305057798.py:16: FutureWarning: DataFrame.interpolate with object dtype is deprecated and will raise in a future version. Call obj.infer_objects(copy=False) before interpolating instead.\n",
      "  df_interpolated = df.interpolate(method='linear', axis=0)\n"
     ]
    }
   ],
   "source": [
    "import pandas as pd\n",
    "\n",
    "data = {\n",
    "    \"Name\": ['Ronit', 'Rishi', 'Rahul', 'Ansh', 'Sohail', 'Sridhar', 'Atharava', 'Rounak'],\n",
    "    \"Age\": [20, 21, 22, 21, 22, 23, 20, 22],\n",
    "    \"Salary\": [None, 200, 300, 100, 400, 200, 1000, 200],\n",
    "    \"Performance_Measure\": [10, 7, 8, 9, 4, 5, 7, 10]\n",
    "}\n",
    "\n",
    "df = pd.DataFrame(data)\n",
    "\n",
    "# Convert numerical columns to proper types\n",
    "df = df.infer_objects(copy=False)\n",
    "\n",
    "# Interpolate missing values\n",
    "df_interpolated = df.interpolate(method='linear', axis=0)\n",
    "\n",
    "print(df_interpolated)\n"
   ]
  },
  {
   "cell_type": "code",
   "execution_count": 79,
   "metadata": {},
   "outputs": [
    {
     "name": "stdout",
     "output_type": "stream",
     "text": [
      "       Name  Age  Salary  Performance_Measure\n",
      "0     Ronit   20    1000                   10\n",
      "6  Atharava   20    1000                    7\n",
      "3      Ansh   21     100                    9\n",
      "1     Rishi   21     200                    7\n",
      "7    Rounak   22     200                   10\n",
      "2     Rahul   22     300                    8\n",
      "4    Sohail   22     400                    4\n",
      "5   Sridhar   23     200                    5\n"
     ]
    }
   ],
   "source": [
    "data = {\n",
    "    \"Name\": ['Ronit', 'Rishi', 'Rahul', 'Ansh', 'Sohail', 'Sridhar', 'Atharava', 'Rounak'],\n",
    "    \"Age\": [20, 21, 22, 21, 22, 23, 20, 22],\n",
    "    \"Salary\": [1000, 200, 300, 100, 400, 200, 1000, 200],\n",
    "    \"Performance_Measure\": [10, 7, 8, 9, 4, 5, 7, 10]\n",
    "}\n",
    "\n",
    "df = pd.DataFrame(data)\n",
    "df.sort_values(by=['Age','Salary'],ascending=[True,True],inplace=True)\n",
    "print(df)"
   ]
  },
  {
   "cell_type": "code",
   "execution_count": 86,
   "metadata": {},
   "outputs": [
    {
     "name": "stdout",
     "output_type": "stream",
     "text": [
      "3400\n",
      "21.375\n",
      "8\n",
      "20\n",
      "23\n"
     ]
    }
   ],
   "source": [
    "data = {\n",
    "    \"Name\": ['Ronit', 'Rishi', 'Rahul', 'Ansh', 'Sohail', 'Sridhar', 'Atharava', 'Rounak'],\n",
    "    \"Age\": [20, 21, 22, 21, 22, 23, 20, 22],\n",
    "    \"Salary\": [1000, 200, 300, 100, 400, 200, 1000, 200],\n",
    "    \"Performance_Measure\": [10, 7, 8, 9, 4, 5, 7, 10]\n",
    "}\n",
    "\n",
    "df = pd.DataFrame(data)\n",
    "print(df[\"Salary\"].sum())\n",
    "print(df[\"Age\"].mean())\n",
    "print(df[\"Name\"].count())\n",
    "print(df[\"Age\"].min())\n",
    "print(df[\"Age\"].max())"
   ]
  },
  {
   "cell_type": "markdown",
   "metadata": {},
   "source": [
    "Grouping "
   ]
  },
  {
   "cell_type": "code",
   "execution_count": 101,
   "metadata": {},
   "outputs": [
    {
     "name": "stdout",
     "output_type": "stream",
     "text": [
      "Age  Salary\n",
      "20   1000      2000\n",
      "21   100        100\n",
      "     200        200\n",
      "22   200        200\n",
      "     300        300\n",
      "     400        400\n",
      "23   200        200\n",
      "Name: Salary, dtype: int64\n"
     ]
    }
   ],
   "source": [
    "data = {\n",
    "    \"Name\": ['Ronit', 'Rishi', 'Rahul', 'Ansh', 'Sohail', 'Sridhar', 'Atharava', 'Rounak'],\n",
    "    \"Age\": [20, 21, 22, 21, 22, 23, 22, 20],\n",
    "    \"Salary\": [1000, 200, 300, 100, 400, 200,200, 1000],\n",
    "    \"Performance_Measure\": [10, 7, 8, 9, 4, 5, 7, 10]\n",
    "}\n",
    "\n",
    "df = pd.DataFrame(data)\n",
    "print(df.groupby([\"Age\",\"Salary\"])[\"Salary\"].sum())\n"
   ]
  },
  {
   "cell_type": "markdown",
   "metadata": {},
   "source": [
    "Now Concatenating two files"
   ]
  },
  {
   "cell_type": "code",
   "execution_count": 115,
   "metadata": {},
   "outputs": [
    {
     "data": {
      "text/html": [
       "<div>\n",
       "<style scoped>\n",
       "    .dataframe tbody tr th:only-of-type {\n",
       "        vertical-align: middle;\n",
       "    }\n",
       "\n",
       "    .dataframe tbody tr th {\n",
       "        vertical-align: top;\n",
       "    }\n",
       "\n",
       "    .dataframe thead th {\n",
       "        text-align: right;\n",
       "    }\n",
       "</style>\n",
       "<table border=\"1\" class=\"dataframe\">\n",
       "  <thead>\n",
       "    <tr style=\"text-align: right;\">\n",
       "      <th></th>\n",
       "      <th>Name</th>\n",
       "      <th>Age_x</th>\n",
       "      <th>Age_y</th>\n",
       "    </tr>\n",
       "  </thead>\n",
       "  <tbody>\n",
       "    <tr>\n",
       "      <th>0</th>\n",
       "      <td>Rahul</td>\n",
       "      <td>21.0</td>\n",
       "      <td>21.0</td>\n",
       "    </tr>\n",
       "    <tr>\n",
       "      <th>1</th>\n",
       "      <td>Rishi</td>\n",
       "      <td>NaN</td>\n",
       "      <td>23.0</td>\n",
       "    </tr>\n",
       "    <tr>\n",
       "      <th>2</th>\n",
       "      <td>Ronit</td>\n",
       "      <td>20.0</td>\n",
       "      <td>NaN</td>\n",
       "    </tr>\n",
       "    <tr>\n",
       "      <th>3</th>\n",
       "      <td>Rounak</td>\n",
       "      <td>20.0</td>\n",
       "      <td>NaN</td>\n",
       "    </tr>\n",
       "  </tbody>\n",
       "</table>\n",
       "</div>"
      ],
      "text/plain": [
       "     Name  Age_x  Age_y\n",
       "0   Rahul   21.0   21.0\n",
       "1   Rishi    NaN   23.0\n",
       "2   Ronit   20.0    NaN\n",
       "3  Rounak   20.0    NaN"
      ]
     },
     "execution_count": 115,
     "metadata": {},
     "output_type": "execute_result"
    }
   ],
   "source": [
    "data1={\n",
    "    'Name':[\"Ronit\",\"Rounak\",\"Rahul\"],\n",
    "    \"Age\":[20,20,21]\n",
    "}\n",
    "data_1=pd.DataFrame(data1)\n",
    "data2={\n",
    "    \"Name\":[\"Rahul\",\"Rishi\"],\n",
    "    \"Age\":[21,23]\n",
    "}\n",
    "data_2=pd.DataFrame(data2)\n",
    "pd.merge(data_1,data_2,on=\"Name\",how='outer')"
   ]
  },
  {
   "cell_type": "code",
   "execution_count": 113,
   "metadata": {},
   "outputs": [
    {
     "ename": "MergeError",
     "evalue": "Can not pass on, right_on, left_on or set right_index=True or left_index=True",
     "output_type": "error",
     "traceback": [
      "\u001b[31m---------------------------------------------------------------------------\u001b[39m",
      "\u001b[31mMergeError\u001b[39m                                Traceback (most recent call last)",
      "\u001b[36mCell\u001b[39m\u001b[36m \u001b[39m\u001b[32mIn[113]\u001b[39m\u001b[32m, line 11\u001b[39m\n\u001b[32m      6\u001b[39m data2={\n\u001b[32m      7\u001b[39m     \u001b[33m\"\u001b[39m\u001b[33mName\u001b[39m\u001b[33m\"\u001b[39m:[\u001b[33m\"\u001b[39m\u001b[33mRahul\u001b[39m\u001b[33m\"\u001b[39m,\u001b[33m\"\u001b[39m\u001b[33mRishi\u001b[39m\u001b[33m\"\u001b[39m],\n\u001b[32m      8\u001b[39m     \u001b[33m\"\u001b[39m\u001b[33mAge\u001b[39m\u001b[33m\"\u001b[39m:[\u001b[32m21\u001b[39m,\u001b[32m23\u001b[39m]\n\u001b[32m      9\u001b[39m }\n\u001b[32m     10\u001b[39m data_2=pd.DataFrame(data2)\n\u001b[32m---> \u001b[39m\u001b[32m11\u001b[39m \u001b[43mpd\u001b[49m\u001b[43m.\u001b[49m\u001b[43mmerge\u001b[49m\u001b[43m(\u001b[49m\u001b[43mdata_1\u001b[49m\u001b[43m,\u001b[49m\u001b[43mdata_2\u001b[49m\u001b[43m,\u001b[49m\u001b[43mon\u001b[49m\u001b[43m=\u001b[49m\u001b[33;43m\"\u001b[39;49m\u001b[33;43mName\u001b[39;49m\u001b[33;43m\"\u001b[39;49m\u001b[43m,\u001b[49m\u001b[43mhow\u001b[49m\u001b[43m=\u001b[49m\u001b[33;43m'\u001b[39;49m\u001b[33;43mcross\u001b[39;49m\u001b[33;43m'\u001b[39;49m\u001b[43m)\u001b[49m\n",
      "\u001b[36mFile \u001b[39m\u001b[32mc:\\Users\\ronit2007\\Desktop\\VirEnv\\pan\\Lib\\site-packages\\pandas\\core\\reshape\\merge.py:155\u001b[39m, in \u001b[36mmerge\u001b[39m\u001b[34m(left, right, how, on, left_on, right_on, left_index, right_index, sort, suffixes, copy, indicator, validate)\u001b[39m\n\u001b[32m    153\u001b[39m right_df = _validate_operand(right)\n\u001b[32m    154\u001b[39m \u001b[38;5;28;01mif\u001b[39;00m how == \u001b[33m\"\u001b[39m\u001b[33mcross\u001b[39m\u001b[33m\"\u001b[39m:\n\u001b[32m--> \u001b[39m\u001b[32m155\u001b[39m     \u001b[38;5;28;01mreturn\u001b[39;00m \u001b[43m_cross_merge\u001b[49m\u001b[43m(\u001b[49m\n\u001b[32m    156\u001b[39m \u001b[43m        \u001b[49m\u001b[43mleft_df\u001b[49m\u001b[43m,\u001b[49m\n\u001b[32m    157\u001b[39m \u001b[43m        \u001b[49m\u001b[43mright_df\u001b[49m\u001b[43m,\u001b[49m\n\u001b[32m    158\u001b[39m \u001b[43m        \u001b[49m\u001b[43mon\u001b[49m\u001b[43m=\u001b[49m\u001b[43mon\u001b[49m\u001b[43m,\u001b[49m\n\u001b[32m    159\u001b[39m \u001b[43m        \u001b[49m\u001b[43mleft_on\u001b[49m\u001b[43m=\u001b[49m\u001b[43mleft_on\u001b[49m\u001b[43m,\u001b[49m\n\u001b[32m    160\u001b[39m \u001b[43m        \u001b[49m\u001b[43mright_on\u001b[49m\u001b[43m=\u001b[49m\u001b[43mright_on\u001b[49m\u001b[43m,\u001b[49m\n\u001b[32m    161\u001b[39m \u001b[43m        \u001b[49m\u001b[43mleft_index\u001b[49m\u001b[43m=\u001b[49m\u001b[43mleft_index\u001b[49m\u001b[43m,\u001b[49m\n\u001b[32m    162\u001b[39m \u001b[43m        \u001b[49m\u001b[43mright_index\u001b[49m\u001b[43m=\u001b[49m\u001b[43mright_index\u001b[49m\u001b[43m,\u001b[49m\n\u001b[32m    163\u001b[39m \u001b[43m        \u001b[49m\u001b[43msort\u001b[49m\u001b[43m=\u001b[49m\u001b[43msort\u001b[49m\u001b[43m,\u001b[49m\n\u001b[32m    164\u001b[39m \u001b[43m        \u001b[49m\u001b[43msuffixes\u001b[49m\u001b[43m=\u001b[49m\u001b[43msuffixes\u001b[49m\u001b[43m,\u001b[49m\n\u001b[32m    165\u001b[39m \u001b[43m        \u001b[49m\u001b[43mindicator\u001b[49m\u001b[43m=\u001b[49m\u001b[43mindicator\u001b[49m\u001b[43m,\u001b[49m\n\u001b[32m    166\u001b[39m \u001b[43m        \u001b[49m\u001b[43mvalidate\u001b[49m\u001b[43m=\u001b[49m\u001b[43mvalidate\u001b[49m\u001b[43m,\u001b[49m\n\u001b[32m    167\u001b[39m \u001b[43m        \u001b[49m\u001b[43mcopy\u001b[49m\u001b[43m=\u001b[49m\u001b[43mcopy\u001b[49m\u001b[43m,\u001b[49m\n\u001b[32m    168\u001b[39m \u001b[43m    \u001b[49m\u001b[43m)\u001b[49m\n\u001b[32m    169\u001b[39m \u001b[38;5;28;01melse\u001b[39;00m:\n\u001b[32m    170\u001b[39m     op = _MergeOperation(\n\u001b[32m    171\u001b[39m         left_df,\n\u001b[32m    172\u001b[39m         right_df,\n\u001b[32m   (...)\u001b[39m\u001b[32m    182\u001b[39m         validate=validate,\n\u001b[32m    183\u001b[39m     )\n",
      "\u001b[36mFile \u001b[39m\u001b[32mc:\\Users\\ronit2007\\Desktop\\VirEnv\\pan\\Lib\\site-packages\\pandas\\core\\reshape\\merge.py:212\u001b[39m, in \u001b[36m_cross_merge\u001b[39m\u001b[34m(left, right, on, left_on, right_on, left_index, right_index, sort, suffixes, copy, indicator, validate)\u001b[39m\n\u001b[32m    201\u001b[39m \u001b[38;5;250m\u001b[39m\u001b[33;03m\"\"\"\u001b[39;00m\n\u001b[32m    202\u001b[39m \u001b[33;03mSee merge.__doc__ with how='cross'\u001b[39;00m\n\u001b[32m    203\u001b[39m \u001b[33;03m\"\"\"\u001b[39;00m\n\u001b[32m    205\u001b[39m \u001b[38;5;28;01mif\u001b[39;00m (\n\u001b[32m    206\u001b[39m     left_index\n\u001b[32m    207\u001b[39m     \u001b[38;5;129;01mor\u001b[39;00m right_index\n\u001b[32m   (...)\u001b[39m\u001b[32m    210\u001b[39m     \u001b[38;5;129;01mor\u001b[39;00m on \u001b[38;5;129;01mis\u001b[39;00m \u001b[38;5;129;01mnot\u001b[39;00m \u001b[38;5;28;01mNone\u001b[39;00m\n\u001b[32m    211\u001b[39m ):\n\u001b[32m--> \u001b[39m\u001b[32m212\u001b[39m     \u001b[38;5;28;01mraise\u001b[39;00m MergeError(\n\u001b[32m    213\u001b[39m         \u001b[33m\"\u001b[39m\u001b[33mCan not pass on, right_on, left_on or set right_index=True or \u001b[39m\u001b[33m\"\u001b[39m\n\u001b[32m    214\u001b[39m         \u001b[33m\"\u001b[39m\u001b[33mleft_index=True\u001b[39m\u001b[33m\"\u001b[39m\n\u001b[32m    215\u001b[39m     )\n\u001b[32m    217\u001b[39m cross_col = \u001b[33mf\u001b[39m\u001b[33m\"\u001b[39m\u001b[33m_cross_\u001b[39m\u001b[38;5;132;01m{\u001b[39;00muuid.uuid4()\u001b[38;5;132;01m}\u001b[39;00m\u001b[33m\"\u001b[39m\n\u001b[32m    218\u001b[39m left = left.assign(**{cross_col: \u001b[32m1\u001b[39m})\n",
      "\u001b[31mMergeError\u001b[39m: Can not pass on, right_on, left_on or set right_index=True or left_index=True"
     ]
    }
   ],
   "source": [
    "data1={\n",
    "    'Name':[\"Ronit\",\"Rounak\",\"Rahul\"],\n",
    "    'Age':[20,20,21]\n",
    "}\n",
    "data_1=pd.DataFrame(data1)\n",
    "data2={\n",
    "    \"Name\":[\"Rahul\",\"Rishi\"],\n",
    "    \"Age\":[21,23]\n",
    "}\n",
    "data_2=pd.DataFrame(data2)\n",
    "pd.merge(data_1,data_2,on=\"Name\",how='cross')"
   ]
  }
 ],
 "metadata": {
  "kernelspec": {
   "display_name": "pan",
   "language": "python",
   "name": "python3"
  },
  "language_info": {
   "codemirror_mode": {
    "name": "ipython",
    "version": 3
   },
   "file_extension": ".py",
   "mimetype": "text/x-python",
   "name": "python",
   "nbconvert_exporter": "python",
   "pygments_lexer": "ipython3",
   "version": "3.11.9"
  }
 },
 "nbformat": 4,
 "nbformat_minor": 2
}
